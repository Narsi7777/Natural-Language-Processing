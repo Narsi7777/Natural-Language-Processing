{
 "cells": [
  {
   "cell_type": "code",
   "execution_count": 3,
   "id": "6a8efbb5-142b-4956-8aec-f0b34bc33a95",
   "metadata": {},
   "outputs": [],
   "source": [
    "import numpy as np\n",
    "import tensorflow as tf\n",
    "from tensorflow.keras.models import Sequential\n",
    "from tensorflow.keras.layers import Dense,Embedding,LSTM\n",
    "import gensim\n",
    "from gensim.models import Word2Vec\n",
    "import nltk \n",
    "from nltk.tokenize import word_tokenize\n",
    "from sklearn.feature_extraction.text import TfidfVectorizer\n",
    "from sklearn.model_selection import train_test_split"
   ]
  },
  {
   "cell_type": "code",
   "execution_count": 4,
   "id": "26ff6eca-b6ab-4f5e-acbc-6514b67596ef",
   "metadata": {},
   "outputs": [],
   "source": [
    "import pandas as pd\n",
    "from nltk.corpus import stopwords\n",
    "from nltk.stem import PorterStemmer\n",
    "stemmer=PorterStemmer()\n",
    "stop=set(stopwords.words('english'))\n",
    "import re\n",
    "df=pd.read_csv(\"Q2TrueFakeNewsDataset.csv\")\n",
    "def transform(text):\n",
    "    t=re.sub(r\"[^a-zA-Z\\s]\",\"\",text)\n",
    "    token=word_tokenize(t.lower())\n",
    "    token=[stemmer.stem(i) for i in token if i not in stop]\n",
    "    return \" \".join(token)\n",
    "\n",
    "    \n",
    "df['clean']=df['TEXT'].apply(transform)"
   ]
  },
  {
   "cell_type": "code",
   "execution_count": 5,
   "id": "0f9c57a7-ed4e-4be4-b1ca-f809db04d188",
   "metadata": {},
   "outputs": [
    {
     "data": {
      "text/html": [
       "<div>\n",
       "<style scoped>\n",
       "    .dataframe tbody tr th:only-of-type {\n",
       "        vertical-align: middle;\n",
       "    }\n",
       "\n",
       "    .dataframe tbody tr th {\n",
       "        vertical-align: top;\n",
       "    }\n",
       "\n",
       "    .dataframe thead th {\n",
       "        text-align: right;\n",
       "    }\n",
       "</style>\n",
       "<table border=\"1\" class=\"dataframe\">\n",
       "  <thead>\n",
       "    <tr style=\"text-align: right;\">\n",
       "      <th></th>\n",
       "      <th>TEXT</th>\n",
       "      <th>Class</th>\n",
       "      <th>clean</th>\n",
       "    </tr>\n",
       "  </thead>\n",
       "  <tbody>\n",
       "    <tr>\n",
       "      <th>0</th>\n",
       "      <td>WASHINGTON (Reuters) - The head of a conservat...</td>\n",
       "      <td>TRUE</td>\n",
       "      <td>washington reuter head conserv republican fact...</td>\n",
       "    </tr>\n",
       "    <tr>\n",
       "      <th>1</th>\n",
       "      <td>WASHINGTON (Reuters) - Transgender people will...</td>\n",
       "      <td>TRUE</td>\n",
       "      <td>washington reuter transgend peopl allow first ...</td>\n",
       "    </tr>\n",
       "    <tr>\n",
       "      <th>2</th>\n",
       "      <td>WASHINGTON (Reuters) - The special counsel inv...</td>\n",
       "      <td>TRUE</td>\n",
       "      <td>washington reuter special counsel investig lin...</td>\n",
       "    </tr>\n",
       "    <tr>\n",
       "      <th>3</th>\n",
       "      <td>WASHINGTON (Reuters) - Trump campaign adviser ...</td>\n",
       "      <td>TRUE</td>\n",
       "      <td>washington reuter trump campaign advis georg p...</td>\n",
       "    </tr>\n",
       "    <tr>\n",
       "      <th>4</th>\n",
       "      <td>SEATTLE/WASHINGTON (Reuters) - President Donal...</td>\n",
       "      <td>TRUE</td>\n",
       "      <td>seattlewashington reuter presid donald trump c...</td>\n",
       "    </tr>\n",
       "    <tr>\n",
       "      <th>...</th>\n",
       "      <td>...</td>\n",
       "      <td>...</td>\n",
       "      <td>...</td>\n",
       "    </tr>\n",
       "    <tr>\n",
       "      <th>9994</th>\n",
       "      <td>It s no secret Republicans are salivating to f...</td>\n",
       "      <td>FAKE</td>\n",
       "      <td>secret republican saliv find someth anyth take...</td>\n",
       "    </tr>\n",
       "    <tr>\n",
       "      <th>9995</th>\n",
       "      <td>Republicans are about to lose a huge source of...</td>\n",
       "      <td>FAKE</td>\n",
       "      <td>republican lose huge sourc fund justic depart ...</td>\n",
       "    </tr>\n",
       "    <tr>\n",
       "      <th>9996</th>\n",
       "      <td>A pawn working for Donald Trump claimed that w...</td>\n",
       "      <td>FAKE</td>\n",
       "      <td>pawn work donald trump claim women respect vot...</td>\n",
       "    </tr>\n",
       "    <tr>\n",
       "      <th>9997</th>\n",
       "      <td>Fox News is desperate to sabotage Hillary Clin...</td>\n",
       "      <td>FAKE</td>\n",
       "      <td>fox news desper sabotag hillari clinton campai...</td>\n",
       "    </tr>\n",
       "    <tr>\n",
       "      <th>9998</th>\n",
       "      <td>As Donald Trump s campaign continues to sink d...</td>\n",
       "      <td>FAKE</td>\n",
       "      <td>donald trump campaign continu sink deeper self...</td>\n",
       "    </tr>\n",
       "  </tbody>\n",
       "</table>\n",
       "<p>9999 rows × 3 columns</p>\n",
       "</div>"
      ],
      "text/plain": [
       "                                                   TEXT Class  \\\n",
       "0     WASHINGTON (Reuters) - The head of a conservat...  TRUE   \n",
       "1     WASHINGTON (Reuters) - Transgender people will...  TRUE   \n",
       "2     WASHINGTON (Reuters) - The special counsel inv...  TRUE   \n",
       "3     WASHINGTON (Reuters) - Trump campaign adviser ...  TRUE   \n",
       "4     SEATTLE/WASHINGTON (Reuters) - President Donal...  TRUE   \n",
       "...                                                 ...   ...   \n",
       "9994  It s no secret Republicans are salivating to f...  FAKE   \n",
       "9995  Republicans are about to lose a huge source of...  FAKE   \n",
       "9996  A pawn working for Donald Trump claimed that w...  FAKE   \n",
       "9997  Fox News is desperate to sabotage Hillary Clin...  FAKE   \n",
       "9998  As Donald Trump s campaign continues to sink d...  FAKE   \n",
       "\n",
       "                                                  clean  \n",
       "0     washington reuter head conserv republican fact...  \n",
       "1     washington reuter transgend peopl allow first ...  \n",
       "2     washington reuter special counsel investig lin...  \n",
       "3     washington reuter trump campaign advis georg p...  \n",
       "4     seattlewashington reuter presid donald trump c...  \n",
       "...                                                 ...  \n",
       "9994  secret republican saliv find someth anyth take...  \n",
       "9995  republican lose huge sourc fund justic depart ...  \n",
       "9996  pawn work donald trump claim women respect vot...  \n",
       "9997  fox news desper sabotag hillari clinton campai...  \n",
       "9998  donald trump campaign continu sink deeper self...  \n",
       "\n",
       "[9999 rows x 3 columns]"
      ]
     },
     "execution_count": 5,
     "metadata": {},
     "output_type": "execute_result"
    }
   ],
   "source": [
    "df"
   ]
  },
  {
   "cell_type": "code",
   "execution_count": 6,
   "id": "5982e653-94d5-4cc4-9454-6edf1b50d3b0",
   "metadata": {},
   "outputs": [],
   "source": [
    "from sklearn.preprocessing import LabelEncoder\n",
    "label=LabelEncoder()\n",
    "df['Class']=label.fit_transform(df['Class'])\n"
   ]
  },
  {
   "cell_type": "code",
   "execution_count": 7,
   "id": "9d82bfe8-223f-4444-8eb1-4c1596dccdb3",
   "metadata": {},
   "outputs": [],
   "source": [
    "X_train,X_test,y_train,y_test=train_test_split(df['clean'],df['Class'],test_size=0.2,random_state=42)"
   ]
  },
  {
   "cell_type": "code",
   "execution_count": 9,
   "id": "2a37bc71-2108-42f0-aabd-fb229f7785d6",
   "metadata": {},
   "outputs": [],
   "source": [
    "data=[sent.split() for sent in X_train]\n",
    "w2model=Word2Vec(data,vector_size=100,window=5)\n",
    "wordvector=w2model.wv"
   ]
  },
  {
   "cell_type": "code",
   "execution_count": 10,
   "id": "94a82a6b-a429-4103-8fad-96293c8179cb",
   "metadata": {},
   "outputs": [
    {
     "data": {
      "text/plain": [
       "((7999, 100), (7999,))"
      ]
     },
     "execution_count": 10,
     "metadata": {},
     "output_type": "execute_result"
    }
   ],
   "source": [
    "def vectorizer(text):\n",
    "    words=text.split()\n",
    "    vectors = [wordvector[word] for word in words if word in wordvector]\n",
    "    return np.mean(vectors,axis=0) if vectors else np.zeros(100)\n",
    "\n",
    "x_trainw2v=np.array([vectorizer(text) for text in X_train])\n",
    "x_testw2v=np.array([vectorizer(text) for text in X_test])\n",
    "x_trainw2v.shape,y_train.shape"
   ]
  },
  {
   "cell_type": "code",
   "execution_count": 54,
   "id": "b94f2ac5-4b7b-43c0-b27c-8aa5a90515ff",
   "metadata": {},
   "outputs": [
    {
     "data": {
      "text/html": [
       "<pre style=\"white-space:pre;overflow-x:auto;line-height:normal;font-family:Menlo,'DejaVu Sans Mono',consolas,'Courier New',monospace\"><span style=\"font-weight: bold\">Model: \"sequential_2\"</span>\n",
       "</pre>\n"
      ],
      "text/plain": [
       "\u001b[1mModel: \"sequential_2\"\u001b[0m\n"
      ]
     },
     "metadata": {},
     "output_type": "display_data"
    },
    {
     "data": {
      "text/html": [
       "<pre style=\"white-space:pre;overflow-x:auto;line-height:normal;font-family:Menlo,'DejaVu Sans Mono',consolas,'Courier New',monospace\">┏━━━━━━━━━━━━━━━━━━━━━━━━━━━━━━━━━━━━━━┳━━━━━━━━━━━━━━━━━━━━━━━━━━━━━┳━━━━━━━━━━━━━━━━━┓\n",
       "┃<span style=\"font-weight: bold\"> Layer (type)                         </span>┃<span style=\"font-weight: bold\"> Output Shape                </span>┃<span style=\"font-weight: bold\">         Param # </span>┃\n",
       "┡━━━━━━━━━━━━━━━━━━━━━━━━━━━━━━━━━━━━━━╇━━━━━━━━━━━━━━━━━━━━━━━━━━━━━╇━━━━━━━━━━━━━━━━━┩\n",
       "│ dense_6 (<span style=\"color: #0087ff; text-decoration-color: #0087ff\">Dense</span>)                      │ (<span style=\"color: #00d7ff; text-decoration-color: #00d7ff\">None</span>, <span style=\"color: #00af00; text-decoration-color: #00af00\">128</span>)                 │          <span style=\"color: #00af00; text-decoration-color: #00af00\">12,928</span> │\n",
       "├──────────────────────────────────────┼─────────────────────────────┼─────────────────┤\n",
       "│ dense_7 (<span style=\"color: #0087ff; text-decoration-color: #0087ff\">Dense</span>)                      │ (<span style=\"color: #00d7ff; text-decoration-color: #00d7ff\">None</span>, <span style=\"color: #00af00; text-decoration-color: #00af00\">64</span>)                  │           <span style=\"color: #00af00; text-decoration-color: #00af00\">8,256</span> │\n",
       "├──────────────────────────────────────┼─────────────────────────────┼─────────────────┤\n",
       "│ dense_8 (<span style=\"color: #0087ff; text-decoration-color: #0087ff\">Dense</span>)                      │ (<span style=\"color: #00d7ff; text-decoration-color: #00d7ff\">None</span>, <span style=\"color: #00af00; text-decoration-color: #00af00\">1</span>)                   │              <span style=\"color: #00af00; text-decoration-color: #00af00\">65</span> │\n",
       "└──────────────────────────────────────┴─────────────────────────────┴─────────────────┘\n",
       "</pre>\n"
      ],
      "text/plain": [
       "┏━━━━━━━━━━━━━━━━━━━━━━━━━━━━━━━━━━━━━━┳━━━━━━━━━━━━━━━━━━━━━━━━━━━━━┳━━━━━━━━━━━━━━━━━┓\n",
       "┃\u001b[1m \u001b[0m\u001b[1mLayer (type)                        \u001b[0m\u001b[1m \u001b[0m┃\u001b[1m \u001b[0m\u001b[1mOutput Shape               \u001b[0m\u001b[1m \u001b[0m┃\u001b[1m \u001b[0m\u001b[1m        Param #\u001b[0m\u001b[1m \u001b[0m┃\n",
       "┡━━━━━━━━━━━━━━━━━━━━━━━━━━━━━━━━━━━━━━╇━━━━━━━━━━━━━━━━━━━━━━━━━━━━━╇━━━━━━━━━━━━━━━━━┩\n",
       "│ dense_6 (\u001b[38;5;33mDense\u001b[0m)                      │ (\u001b[38;5;45mNone\u001b[0m, \u001b[38;5;34m128\u001b[0m)                 │          \u001b[38;5;34m12,928\u001b[0m │\n",
       "├──────────────────────────────────────┼─────────────────────────────┼─────────────────┤\n",
       "│ dense_7 (\u001b[38;5;33mDense\u001b[0m)                      │ (\u001b[38;5;45mNone\u001b[0m, \u001b[38;5;34m64\u001b[0m)                  │           \u001b[38;5;34m8,256\u001b[0m │\n",
       "├──────────────────────────────────────┼─────────────────────────────┼─────────────────┤\n",
       "│ dense_8 (\u001b[38;5;33mDense\u001b[0m)                      │ (\u001b[38;5;45mNone\u001b[0m, \u001b[38;5;34m1\u001b[0m)                   │              \u001b[38;5;34m65\u001b[0m │\n",
       "└──────────────────────────────────────┴─────────────────────────────┴─────────────────┘\n"
      ]
     },
     "metadata": {},
     "output_type": "display_data"
    },
    {
     "data": {
      "text/html": [
       "<pre style=\"white-space:pre;overflow-x:auto;line-height:normal;font-family:Menlo,'DejaVu Sans Mono',consolas,'Courier New',monospace\"><span style=\"font-weight: bold\"> Total params: </span><span style=\"color: #00af00; text-decoration-color: #00af00\">21,249</span> (83.00 KB)\n",
       "</pre>\n"
      ],
      "text/plain": [
       "\u001b[1m Total params: \u001b[0m\u001b[38;5;34m21,249\u001b[0m (83.00 KB)\n"
      ]
     },
     "metadata": {},
     "output_type": "display_data"
    },
    {
     "data": {
      "text/html": [
       "<pre style=\"white-space:pre;overflow-x:auto;line-height:normal;font-family:Menlo,'DejaVu Sans Mono',consolas,'Courier New',monospace\"><span style=\"font-weight: bold\"> Trainable params: </span><span style=\"color: #00af00; text-decoration-color: #00af00\">21,249</span> (83.00 KB)\n",
       "</pre>\n"
      ],
      "text/plain": [
       "\u001b[1m Trainable params: \u001b[0m\u001b[38;5;34m21,249\u001b[0m (83.00 KB)\n"
      ]
     },
     "metadata": {},
     "output_type": "display_data"
    },
    {
     "data": {
      "text/html": [
       "<pre style=\"white-space:pre;overflow-x:auto;line-height:normal;font-family:Menlo,'DejaVu Sans Mono',consolas,'Courier New',monospace\"><span style=\"font-weight: bold\"> Non-trainable params: </span><span style=\"color: #00af00; text-decoration-color: #00af00\">0</span> (0.00 B)\n",
       "</pre>\n"
      ],
      "text/plain": [
       "\u001b[1m Non-trainable params: \u001b[0m\u001b[38;5;34m0\u001b[0m (0.00 B)\n"
      ]
     },
     "metadata": {},
     "output_type": "display_data"
    }
   ],
   "source": [
    "model=Sequential([\n",
    "    Dense(128,activation='relu',input_shape=(100,)),\n",
    "    Dense(64,activation='relu'),\n",
    "    Dense(1,activation='sigmoid')\n",
    "])\n",
    "model.summary()"
   ]
  },
  {
   "cell_type": "code",
   "execution_count": 55,
   "id": "fb5bdeb7-8e38-4a97-9083-bd100602b67b",
   "metadata": {},
   "outputs": [
    {
     "name": "stdout",
     "output_type": "stream",
     "text": [
      "Epoch 1/5\n",
      "\u001b[1m2000/2000\u001b[0m \u001b[32m━━━━━━━━━━━━━━━━━━━━\u001b[0m\u001b[37m\u001b[0m \u001b[1m9s\u001b[0m 3ms/step - accuracy: 0.9592 - loss: 0.1136\n",
      "Epoch 2/5\n",
      "\u001b[1m2000/2000\u001b[0m \u001b[32m━━━━━━━━━━━━━━━━━━━━\u001b[0m\u001b[37m\u001b[0m \u001b[1m5s\u001b[0m 3ms/step - accuracy: 0.9846 - loss: 0.0437\n",
      "Epoch 3/5\n",
      "\u001b[1m2000/2000\u001b[0m \u001b[32m━━━━━━━━━━━━━━━━━━━━\u001b[0m\u001b[37m\u001b[0m \u001b[1m5s\u001b[0m 2ms/step - accuracy: 0.9889 - loss: 0.0346\n",
      "Epoch 4/5\n",
      "\u001b[1m2000/2000\u001b[0m \u001b[32m━━━━━━━━━━━━━━━━━━━━\u001b[0m\u001b[37m\u001b[0m \u001b[1m5s\u001b[0m 2ms/step - accuracy: 0.9902 - loss: 0.0278\n",
      "Epoch 5/5\n",
      "\u001b[1m2000/2000\u001b[0m \u001b[32m━━━━━━━━━━━━━━━━━━━━\u001b[0m\u001b[37m\u001b[0m \u001b[1m6s\u001b[0m 3ms/step - accuracy: 0.9900 - loss: 0.0264\n"
     ]
    },
    {
     "data": {
      "text/plain": [
       "<keras.src.callbacks.history.History at 0x1fa14eaa480>"
      ]
     },
     "execution_count": 55,
     "metadata": {},
     "output_type": "execute_result"
    }
   ],
   "source": [
    "model.compile(optimizer=\"adam\",loss=\"binary_crossentropy\",metrics=['accuracy'])\n",
    "model.fit(x_trainw2v,y_train,epochs=5,batch_size=4)"
   ]
  },
  {
   "cell_type": "code",
   "execution_count": 56,
   "id": "9fccc871-928f-41f3-8af4-e78b21488cee",
   "metadata": {},
   "outputs": [
    {
     "data": {
      "text/plain": [
       "array([[-0.36015213,  0.22015083,  0.14862385, ..., -0.13474348,\n",
       "        -0.09297694,  0.17223404],\n",
       "       [-0.22597519, -0.1532465 , -0.18582734, ..., -0.92986083,\n",
       "        -0.17110011, -0.11707507],\n",
       "       [-0.21714753, -0.22170371, -0.26233295, ..., -0.7632935 ,\n",
       "        -0.27916673, -0.34645626],\n",
       "       ...,\n",
       "       [-0.42463106,  0.36755258,  0.05741316, ..., -0.06040965,\n",
       "         0.00622489,  0.01698539],\n",
       "       [ 0.27752843,  0.09643646, -0.1026919 , ..., -0.36510885,\n",
       "        -0.29410315,  0.37260035],\n",
       "       [ 0.10262414,  0.36820433, -0.07211433, ..., -0.03501737,\n",
       "        -0.2584216 ,  0.3936316 ]], dtype=float32)"
      ]
     },
     "execution_count": 56,
     "metadata": {},
     "output_type": "execute_result"
    }
   ],
   "source": [
    "x_trainw2v"
   ]
  },
  {
   "cell_type": "code",
   "execution_count": null,
   "id": "b716284b-2592-44df-bee6-2f117f3b9fd6",
   "metadata": {},
   "outputs": [],
   "source": []
  }
 ],
 "metadata": {
  "kernelspec": {
   "display_name": "Python 3 (ipykernel)",
   "language": "python",
   "name": "python3"
  },
  "language_info": {
   "codemirror_mode": {
    "name": "ipython",
    "version": 3
   },
   "file_extension": ".py",
   "mimetype": "text/x-python",
   "name": "python",
   "nbconvert_exporter": "python",
   "pygments_lexer": "ipython3",
   "version": "3.12.5"
  }
 },
 "nbformat": 4,
 "nbformat_minor": 5
}
