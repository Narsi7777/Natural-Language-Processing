{
 "cells": [
  {
   "cell_type": "code",
   "execution_count": 8,
   "id": "d9090061-c97b-41f4-9d08-f02f35ef21f3",
   "metadata": {},
   "outputs": [
    {
     "name": "stdout",
     "output_type": "stream",
     "text": [
      "<class 'pandas.core.series.Series'> <class 'pandas.core.series.Series'>\n",
      "<class 'numpy.ndarray'> <class 'numpy.ndarray'>\n",
      "(7999, 10000) (7999, 2)\n"
     ]
    }
   ],
   "source": [
    "import pandas as pd\n",
    "from sklearn.model_selection import train_test_split\n",
    "from sklearn.feature_extraction.text import TfidfVectorizer\n",
    "from sklearn.preprocessing import LabelEncoder\n",
    "from tensorflow.keras.models import Sequential\n",
    "from tensorflow.keras.layers import Dense, Dropout, Input\n",
    "from tensorflow.keras.utils import to_categorical\n",
    " # Load and preprocess data\n",
    "df = pd.read_csv('Q2TrueFakeNewsDataset.csv')[['TEXT', 'Class']]\n",
    "df['TEXT'] = df['TEXT'].fillna('')\n",
    "df['Class'] = LabelEncoder().fit_transform(df['Class'])\n",
    "vectorizer = TfidfVectorizer(max_features=10000, stop_words='english')\n",
    "X_train, X_test, y_train, y_test = train_test_split(df['TEXT'], df['Class'], test_size=0.2, random_state=42)\n",
    "print(type(X_train),type(y_train))\n",
    "X_train, X_test = vectorizer.fit_transform(X_train).toarray(), vectorizer.transform(X_test).toarray()\n",
    "y_train, y_test = to_categorical(y_train), to_categorical(y_test)\n",
    " # Define and train model\n",
    "\n",
    "print(type(X_train),type(y_train))\n",
    "print(X_train.shape,y_train.shape)"
   ]
  },
  {
   "cell_type": "code",
   "execution_count": 11,
   "id": "dc81c3e9-a0ca-423e-837a-85c029f486a5",
   "metadata": {},
   "outputs": [],
   "source": [
    "model = Sequential([\n",
    "Input(shape=(X_train.shape[1],)),\n",
    "Dense(512, activation='relu'), Dropout(0.5),\n",
    "Dense(256, activation='relu'), Dropout(0.5),\n",
    "Dense(2, activation='softmax')\n",
    " ])"
   ]
  },
  {
   "cell_type": "code",
   "execution_count": 10,
   "id": "d59ace9a-96d4-406d-859e-9c7a680030d8",
   "metadata": {},
   "outputs": [
    {
     "name": "stdout",
     "output_type": "stream",
     "text": [
      "Epoch 1/5\n",
      "\u001b[1m100/100\u001b[0m \u001b[32m━━━━━━━━━━━━━━━━━━━━\u001b[0m\u001b[37m\u001b[0m \u001b[1m13s\u001b[0m 96ms/step - accuracy: 0.8877 - loss: 0.3450 - val_accuracy: 0.9944 - val_loss: 0.0188\n",
      "Epoch 2/5\n",
      "\u001b[1m100/100\u001b[0m \u001b[32m━━━━━━━━━━━━━━━━━━━━\u001b[0m\u001b[37m\u001b[0m \u001b[1m6s\u001b[0m 61ms/step - accuracy: 0.9998 - loss: 0.0029 - val_accuracy: 0.9944 - val_loss: 0.0184\n",
      "Epoch 3/5\n",
      "\u001b[1m100/100\u001b[0m \u001b[32m━━━━━━━━━━━━━━━━━━━━\u001b[0m\u001b[37m\u001b[0m \u001b[1m7s\u001b[0m 65ms/step - accuracy: 1.0000 - loss: 5.0290e-04 - val_accuracy: 0.9950 - val_loss: 0.0172\n",
      "Epoch 4/5\n",
      "\u001b[1m100/100\u001b[0m \u001b[32m━━━━━━━━━━━━━━━━━━━━\u001b[0m\u001b[37m\u001b[0m \u001b[1m6s\u001b[0m 62ms/step - accuracy: 1.0000 - loss: 1.7474e-04 - val_accuracy: 0.9950 - val_loss: 0.0181\n",
      "Epoch 5/5\n",
      "\u001b[1m100/100\u001b[0m \u001b[32m━━━━━━━━━━━━━━━━━━━━\u001b[0m\u001b[37m\u001b[0m \u001b[1m5s\u001b[0m 54ms/step - accuracy: 1.0000 - loss: 1.2823e-04 - val_accuracy: 0.9944 - val_loss: 0.0211\n",
      "\u001b[1m63/63\u001b[0m \u001b[32m━━━━━━━━━━━━━━━━━━━━\u001b[0m\u001b[37m\u001b[0m \u001b[1m1s\u001b[0m 12ms/step - accuracy: 0.9978 - loss: 0.0088      \n",
      "Model Loss: 0.0155, Model Accuracy: 0.9965\n"
     ]
    }
   ],
   "source": [
    "model.compile(optimizer='adam', loss='categorical_crossentropy', metrics=['accuracy'])\n",
    "model.fit(X_train, y_train, epochs=5, batch_size=64, validation_split=0.2)\n",
    " # Evaluate and save model\n",
    "loss, accuracy = model.evaluate(X_test, y_test)\n",
    "print(f'Model Loss: {loss:.4f}, Model Accuracy: {accuracy:.4f}')\n",
    "model.save('news_classifier_ffnn.keras')"
   ]
  },
  {
   "cell_type": "code",
   "execution_count": null,
   "id": "6207fa9a-ede4-41ee-a630-e3fed46c4900",
   "metadata": {},
   "outputs": [],
   "source": []
  }
 ],
 "metadata": {
  "kernelspec": {
   "display_name": "Python 3 (ipykernel)",
   "language": "python",
   "name": "python3"
  },
  "language_info": {
   "codemirror_mode": {
    "name": "ipython",
    "version": 3
   },
   "file_extension": ".py",
   "mimetype": "text/x-python",
   "name": "python",
   "nbconvert_exporter": "python",
   "pygments_lexer": "ipython3",
   "version": "3.12.5"
  }
 },
 "nbformat": 4,
 "nbformat_minor": 5
}
