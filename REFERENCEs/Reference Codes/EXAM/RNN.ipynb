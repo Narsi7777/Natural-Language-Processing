{
 "cells": [
  {
   "cell_type": "code",
   "execution_count": null,
   "id": "d30eae52-3b69-4d38-bdf2-d6a0ec46bff8",
   "metadata": {},
   "outputs": [],
   "source": [
    "import tensorflow as tf\n",
    "from tensorflow.keras.preprocessing.text import Tokenizer\n",
    "from tensorflow.keras.preprocessing.sequence import pad_sequences\n",
    "import numpy as np\n",
    "import pandas as pd\n",
    "from tensorflow.keras.models import Sequential\n",
    "from tensorflow.keras.layers import Dense,ReLU,TimeDistributed,Embedding,LSTM,RepeatVector"
   ]
  },
  {
   "cell_type": "code",
   "execution_count": null,
   "id": "c8cc7116-a154-4680-9533-3a0ca2526942",
   "metadata": {},
   "outputs": [],
   "source": [
    "df=pd.read_csv(\"Q4 MT Eng Tel Dataset.txt\",delimiter=\"\\t\")\n",
    "df.columns=['English','Telugu','Metadata']"
   ]
  },
  {
   "cell_type": "markdown",
   "id": "4594374a",
   "metadata": {},
   "source": []
  },
  {
   "cell_type": "code",
   "execution_count": null,
   "id": "569c6d44-7933-4ea0-a128-6ca77e42607c",
   "metadata": {},
   "outputs": [],
   "source": [
    "df.columns"
   ]
  },
  {
   "cell_type": "code",
   "execution_count": null,
   "id": "17bf40a2-1768-4296-9842-17fe937056e4",
   "metadata": {},
   "outputs": [],
   "source": [
    "df"
   ]
  },
  {
   "cell_type": "code",
   "execution_count": null,
   "id": "dec5adef-a9ab-4501-9251-8b0e1a3565f1",
   "metadata": {},
   "outputs": [],
   "source": [
    "english=df['English'].tolist()\n",
    "telugu=df['Telugu'].tolist()\n",
    "eng_tokenizer=Tokenizer()\n",
    "tel_tokenizer=Tokenizer()\n",
    "eng_tokenizer.fit_on_texts(english)\n",
    "tel_tokenizer.fit_on_texts(telugu)\n",
    "eng_len=len(eng_tokenizer.word_index)+1\n",
    "tel_len=len(tel_tokenizer.word_index)+1\n",
    "eng_seq=eng_tokenizer.texts_to_sequences(english)\n",
    "tel_seq=tel_tokenizer.texts_to_sequences(telugu)\n",
    "inp_eng=pad_sequences(eng_seq,padding=\"post\")\n",
    "inp_tel=pad_sequences(tel_seq,padding=\"post\")\n",
    "model=Sequential([\n",
    "    Embedding(eng_len,256,input_length=inp_eng.shape[1]),\n",
    "    LSTM(512,return_sequences=False),\n",
    "    RepeatVector(inp_tel.shape[1]),\n",
    "    LSTM(512,return_sequences=True),\n",
    "    TimeDistributed(Dense(tel_len,activation=\"softmax\"))\n",
    "])\n",
    "print(inp_eng.shape,inp_tel.shape)"
   ]
  },
  {
   "cell_type": "code",
   "execution_count": null,
   "id": "b312c189-fd0b-4460-980c-a6dd67923f35",
   "metadata": {},
   "outputs": [],
   "source": [
    "\n",
    "model.compile(optimizer=\"adam\",loss=\"sparse_categorical_crossentropy\",metrics=[\"accuracy\"])\n",
    "model.fit(inp_eng,np.expand_dims(inp_tel,-1),epochs=20)"
   ]
  },
  {
   "cell_type": "code",
   "execution_count": null,
   "id": "3b2ced4c-44fd-4c7b-b7de-7a1d6d3adf95",
   "metadata": {},
   "outputs": [],
   "source": [
    "def translate_sentence(sentence):\n",
    "    seq = eng_tokenizer.texts_to_sequences([sentence])\n",
    "    padded = pad_sequences(seq, maxlen=inp_eng.shape[1], padding='post')\n",
    "    prediction = np.argmax(model.predict(padded), axis=-1)\n",
    "    return ' '.join([tel_tokenizer.index_word[i] for i in prediction[0] if i>0])\n",
    " # Translate a sentence\n",
    "input_sentence = input(\"Enter an English sentence: \")\n",
    "print(f\"Translated sentence: {translate_sentence(input_sentence)}\")"
   ]
  },
  {
   "cell_type": "code",
   "execution_count": null,
   "id": "b4c3fea1-94cd-44c5-8e06-9a8164e75f1e",
   "metadata": {},
   "outputs": [],
   "source": []
  },
  {
   "cell_type": "code",
   "execution_count": null,
   "id": "ae01680e-7305-4732-9e17-6d71b4ad4b9c",
   "metadata": {},
   "outputs": [],
   "source": []
  }
 ],
 "metadata": {
  "kernelspec": {
   "display_name": "Python 3 (ipykernel)",
   "language": "python",
   "name": "python3"
  },
  "language_info": {
   "codemirror_mode": {
    "name": "ipython",
    "version": 3
   },
   "file_extension": ".py",
   "mimetype": "text/x-python",
   "name": "python",
   "nbconvert_exporter": "python",
   "pygments_lexer": "ipython3",
   "version": "3.12.5"
  }
 },
 "nbformat": 4,
 "nbformat_minor": 5
}
