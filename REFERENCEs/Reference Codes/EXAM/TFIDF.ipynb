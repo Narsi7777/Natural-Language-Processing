{
 "cells": [
  {
   "cell_type": "code",
   "execution_count": 1,
   "id": "7e9f4f1a-46eb-4804-bdf3-1f97f26d0514",
   "metadata": {},
   "outputs": [],
   "source": [
    "import numpy as np\n",
    "import pandas as pd\n",
    "from sklearn.model_selection import train_test_split\n",
    "import nltk\n",
    "from nltk.tokenize import word_tokenize\n",
    "import tensorflow as tf\n",
    "from tensorflow.keras.layers import Dense,Embedding,LSTM\n",
    "from tensorflow.keras.models import Sequential\n",
    "from nltk.corpus import stopwords\n",
    "from nltk.stem import PorterStemmer\n",
    "from sklearn.feature_extraction.text import TfidfVectorizer,CountVectorizer\n",
    "import gensim\n",
    "from gensim.models import Word2Vec\n",
    "from sklearn.preprocessing import LabelEncoder\n",
    "from sklearn.metrics import confusion_matrix"
   ]
  },
  {
   "cell_type": "code",
   "execution_count": 2,
   "id": "662e32a8-e52f-4f5f-a6ff-f7fd5f9a6ca6",
   "metadata": {},
   "outputs": [],
   "source": [
    "df=pd.read_csv(\"Q2TrueFakeNewsDataset.csv\")\n",
    "\n"
   ]
  },
  {
   "cell_type": "code",
   "execution_count": 5,
   "id": "0f9e36ea-1b67-4c34-a411-95fa5d22a8e1",
   "metadata": {},
   "outputs": [],
   "source": [
    "import re\n",
    "stemmer=PorterStemmer()\n",
    "stop=set(stopwords.words('english'))\n",
    "def transform(text):\n",
    "    t = re.sub(r\"[^a-zA-Z\\s]\", \"\", text)\n",
    "    tokens = word_tokenize(t.lower())\n",
    "    tokens=[stemmer.stem(i) for i in tokens if i not in stop]\n",
    "    return \" \".join(tokens)\n",
    "\n",
    "df[\"clean\"]=df[\"TEXT\"].apply(transform)\n",
    "\n",
    "\n"
   ]
  },
  {
   "cell_type": "code",
   "execution_count": 4,
   "id": "45c5825c-d2a7-4abb-b78f-29557ad92e28",
   "metadata": {},
   "outputs": [],
   "source": [
    "df['Class']=LabelEncoder().fit_transform(df['Class'])"
   ]
  },
  {
   "cell_type": "code",
   "execution_count": 5,
   "id": "9742c171-40e2-457e-b114-45e309e2ba16",
   "metadata": {},
   "outputs": [
    {
     "data": {
      "text/html": [
       "<div>\n",
       "<style scoped>\n",
       "    .dataframe tbody tr th:only-of-type {\n",
       "        vertical-align: middle;\n",
       "    }\n",
       "\n",
       "    .dataframe tbody tr th {\n",
       "        vertical-align: top;\n",
       "    }\n",
       "\n",
       "    .dataframe thead th {\n",
       "        text-align: right;\n",
       "    }\n",
       "</style>\n",
       "<table border=\"1\" class=\"dataframe\">\n",
       "  <thead>\n",
       "    <tr style=\"text-align: right;\">\n",
       "      <th></th>\n",
       "      <th>TEXT</th>\n",
       "      <th>Class</th>\n",
       "      <th>clean</th>\n",
       "    </tr>\n",
       "  </thead>\n",
       "  <tbody>\n",
       "    <tr>\n",
       "      <th>0</th>\n",
       "      <td>WASHINGTON (Reuters) - The head of a conservat...</td>\n",
       "      <td>1</td>\n",
       "      <td>washington reuter head conserv republican fact...</td>\n",
       "    </tr>\n",
       "    <tr>\n",
       "      <th>1</th>\n",
       "      <td>WASHINGTON (Reuters) - Transgender people will...</td>\n",
       "      <td>1</td>\n",
       "      <td>washington reuter transgend peopl allow first ...</td>\n",
       "    </tr>\n",
       "    <tr>\n",
       "      <th>2</th>\n",
       "      <td>WASHINGTON (Reuters) - The special counsel inv...</td>\n",
       "      <td>1</td>\n",
       "      <td>washington reuter special counsel investig lin...</td>\n",
       "    </tr>\n",
       "    <tr>\n",
       "      <th>3</th>\n",
       "      <td>WASHINGTON (Reuters) - Trump campaign adviser ...</td>\n",
       "      <td>1</td>\n",
       "      <td>washington reuter trump campaign advis georg p...</td>\n",
       "    </tr>\n",
       "    <tr>\n",
       "      <th>4</th>\n",
       "      <td>SEATTLE/WASHINGTON (Reuters) - President Donal...</td>\n",
       "      <td>1</td>\n",
       "      <td>seattlewashington reuter presid donald trump c...</td>\n",
       "    </tr>\n",
       "    <tr>\n",
       "      <th>...</th>\n",
       "      <td>...</td>\n",
       "      <td>...</td>\n",
       "      <td>...</td>\n",
       "    </tr>\n",
       "    <tr>\n",
       "      <th>9994</th>\n",
       "      <td>It s no secret Republicans are salivating to f...</td>\n",
       "      <td>0</td>\n",
       "      <td>secret republican saliv find someth anyth take...</td>\n",
       "    </tr>\n",
       "    <tr>\n",
       "      <th>9995</th>\n",
       "      <td>Republicans are about to lose a huge source of...</td>\n",
       "      <td>0</td>\n",
       "      <td>republican lose huge sourc fund justic depart ...</td>\n",
       "    </tr>\n",
       "    <tr>\n",
       "      <th>9996</th>\n",
       "      <td>A pawn working for Donald Trump claimed that w...</td>\n",
       "      <td>0</td>\n",
       "      <td>pawn work donald trump claim women respect vot...</td>\n",
       "    </tr>\n",
       "    <tr>\n",
       "      <th>9997</th>\n",
       "      <td>Fox News is desperate to sabotage Hillary Clin...</td>\n",
       "      <td>0</td>\n",
       "      <td>fox news desper sabotag hillari clinton campai...</td>\n",
       "    </tr>\n",
       "    <tr>\n",
       "      <th>9998</th>\n",
       "      <td>As Donald Trump s campaign continues to sink d...</td>\n",
       "      <td>0</td>\n",
       "      <td>donald trump campaign continu sink deeper self...</td>\n",
       "    </tr>\n",
       "  </tbody>\n",
       "</table>\n",
       "<p>9999 rows × 3 columns</p>\n",
       "</div>"
      ],
      "text/plain": [
       "                                                   TEXT  Class  \\\n",
       "0     WASHINGTON (Reuters) - The head of a conservat...      1   \n",
       "1     WASHINGTON (Reuters) - Transgender people will...      1   \n",
       "2     WASHINGTON (Reuters) - The special counsel inv...      1   \n",
       "3     WASHINGTON (Reuters) - Trump campaign adviser ...      1   \n",
       "4     SEATTLE/WASHINGTON (Reuters) - President Donal...      1   \n",
       "...                                                 ...    ...   \n",
       "9994  It s no secret Republicans are salivating to f...      0   \n",
       "9995  Republicans are about to lose a huge source of...      0   \n",
       "9996  A pawn working for Donald Trump claimed that w...      0   \n",
       "9997  Fox News is desperate to sabotage Hillary Clin...      0   \n",
       "9998  As Donald Trump s campaign continues to sink d...      0   \n",
       "\n",
       "                                                  clean  \n",
       "0     washington reuter head conserv republican fact...  \n",
       "1     washington reuter transgend peopl allow first ...  \n",
       "2     washington reuter special counsel investig lin...  \n",
       "3     washington reuter trump campaign advis georg p...  \n",
       "4     seattlewashington reuter presid donald trump c...  \n",
       "...                                                 ...  \n",
       "9994  secret republican saliv find someth anyth take...  \n",
       "9995  republican lose huge sourc fund justic depart ...  \n",
       "9996  pawn work donald trump claim women respect vot...  \n",
       "9997  fox news desper sabotag hillari clinton campai...  \n",
       "9998  donald trump campaign continu sink deeper self...  \n",
       "\n",
       "[9999 rows x 3 columns]"
      ]
     },
     "execution_count": 5,
     "metadata": {},
     "output_type": "execute_result"
    }
   ],
   "source": [
    "df"
   ]
  },
  {
   "cell_type": "code",
   "execution_count": 6,
   "id": "98bcce41-ee88-4b04-8f4a-4a7d1ebb4bef",
   "metadata": {},
   "outputs": [],
   "source": [
    "X_train,X_test,y_train,y_test=train_test_split(df['clean'],df['Class'],test_size=0.2,random_state=42)"
   ]
  },
  {
   "cell_type": "code",
   "execution_count": 7,
   "id": "ce5a871b-1e9b-46f5-88db-cb39506d7abc",
   "metadata": {},
   "outputs": [
    {
     "data": {
      "text/plain": [
       "9253    0\n",
       "1561    1\n",
       "1670    1\n",
       "6086    0\n",
       "7332    0\n",
       "       ..\n",
       "5734    0\n",
       "5191    0\n",
       "5390    0\n",
       "860     1\n",
       "7270    0\n",
       "Name: Class, Length: 7999, dtype: int32"
      ]
     },
     "execution_count": 7,
     "metadata": {},
     "output_type": "execute_result"
    }
   ],
   "source": [
    "y_train"
   ]
  },
  {
   "cell_type": "code",
   "execution_count": 19,
   "id": "68eb6bd7-d527-46ca-a19c-66b9a089b4b2",
   "metadata": {},
   "outputs": [
    {
     "name": "stdout",
     "output_type": "stream",
     "text": [
      "<class 'pandas.core.series.Series'> <class 'pandas.core.series.Series'>\n",
      "<class 'numpy.ndarray'> <class 'pandas.core.series.Series'>\n",
      "(7999, 1000)\n"
     ]
    }
   ],
   "source": [
    "vectorizer=TfidfVectorizer(max_features=1000)\n",
    "X_train_tfidf=vectorizer.fit_transform(X_train).toarray()\n",
    "X_test_tfidf=vectorizer.transform(X_test).toarray()\n",
    "print(type(X_train),type(y_train))\n",
    "print(type(X_train_tfidf),type(y_train))\n",
    "print(X_train_tfidf.shape)"
   ]
  },
  {
   "cell_type": "code",
   "execution_count": 18,
   "id": "ee50f180-338d-4bc0-9477-ad5ef692b12e",
   "metadata": {},
   "outputs": [
    {
     "data": {
      "text/plain": [
       "(pandas.core.series.Series,\n",
       " 5344    0\n",
       " 7444    0\n",
       " 1731    1\n",
       " 8719    0\n",
       " 4521    1\n",
       "        ..\n",
       " 9448    0\n",
       " 8284    0\n",
       " 7852    0\n",
       " 1095    1\n",
       " 8871    0\n",
       " Name: Class, Length: 2000, dtype: int32,\n",
       " (7999,))"
      ]
     },
     "execution_count": 18,
     "metadata": {},
     "output_type": "execute_result"
    }
   ],
   "source": [
    "type(y_train),y_test,y_train.shape"
   ]
  },
  {
   "cell_type": "code",
   "execution_count": 27,
   "id": "b6ddc433-c88e-47f5-b493-25841a803cbb",
   "metadata": {},
   "outputs": [
    {
     "data": {
      "text/plain": [
       "(7999,)"
      ]
     },
     "execution_count": 27,
     "metadata": {},
     "output_type": "execute_result"
    }
   ],
   "source": [
    "\n",
    "model=Sequential([\n",
    "    Dense(128,activation=\"relu\",input_shape=(X_train_tfidf.shape[1],)),\n",
    "    Dense(64,activation=\"relu\"),\n",
    "    Dense(1,activation=\"sigmoid\")\n",
    "])\n",
    "y_train.shape"
   ]
  },
  {
   "cell_type": "code",
   "execution_count": 28,
   "id": "4d71ad05-06ac-4256-ba7a-85a81262b0ba",
   "metadata": {},
   "outputs": [
    {
     "name": "stdout",
     "output_type": "stream",
     "text": [
      "\u001b[1m2000/2000\u001b[0m \u001b[32m━━━━━━━━━━━━━━━━━━━━\u001b[0m\u001b[37m\u001b[0m \u001b[1m10s\u001b[0m 4ms/step - accuracy: 0.9623 - loss: 0.1330\n"
     ]
    },
    {
     "data": {
      "text/plain": [
       "<keras.src.callbacks.history.History at 0x22d96512ed0>"
      ]
     },
     "execution_count": 28,
     "metadata": {},
     "output_type": "execute_result"
    }
   ],
   "source": [
    "model.compile(optimizer='adam',loss='binary_crossentropy',metrics=['accuracy'])\n",
    "model.fit(X_train_tfidf,y_train,batch_size=4)\n"
   ]
  },
  {
   "cell_type": "code",
   "execution_count": null,
   "id": "0ab3e773-c8cd-42d5-905e-b69ad3d506c4",
   "metadata": {},
   "outputs": [],
   "source": [
    "df1=pd.read_csv(\"Q1ecommerceDataset.csv\")"
   ]
  },
  {
   "cell_type": "code",
   "execution_count": null,
   "id": "bdea5dda-1819-43fe-89be-c9f9cbb12b83",
   "metadata": {},
   "outputs": [],
   "source": [
    "df1.columns=['Household','Description']\n",
    "df1"
   ]
  },
  {
   "cell_type": "code",
   "execution_count": null,
   "id": "89f1f524-041c-4898-a6a4-3b0d24241323",
   "metadata": {},
   "outputs": [],
   "source": [
    "import re\n",
    "from nltk.tokenize import word_tokenize\n",
    "\n",
    "def transform(text):\n",
    "    if not isinstance(text, str):\n",
    "        return \"\"  # or return np.nan if you prefer keeping NaN\n",
    "    t = re.sub(r\"[^a-zA-Z\\s]\", \"\", text)\n",
    "    tokens = word_tokenize(t.lower())\n",
    "    tokens = [stemmer.stem(i) for i in tokens if i not in stop]\n",
    "    return \" \".join(tokens)\n",
    "\n",
    "df1[\"clean\"] = df1[\"Description\"].apply(transform)\n"
   ]
  },
  {
   "cell_type": "code",
   "execution_count": 15,
   "id": "d1b2b3a5-757e-421d-abd8-a3180aee101a",
   "metadata": {},
   "outputs": [
    {
     "data": {
      "text/plain": [
       "Household      0\n",
       "Description    1\n",
       "clean          0\n",
       "dtype: int64"
      ]
     },
     "execution_count": 15,
     "metadata": {},
     "output_type": "execute_result"
    }
   ],
   "source": [
    "df1.isna().sum()"
   ]
  },
  {
   "cell_type": "code",
   "execution_count": 16,
   "id": "e9e51d3a-fe14-4d84-b54f-e1387975ab8e",
   "metadata": {},
   "outputs": [],
   "source": [
    "df1['Household']=LabelEncoder().fit_transform(df1['Household'])"
   ]
  },
  {
   "cell_type": "code",
   "execution_count": null,
   "id": "1ceb8151-938b-4fc5-b1b3-220897c6600f",
   "metadata": {},
   "outputs": [],
   "source": []
  },
  {
   "cell_type": "code",
   "execution_count": 17,
   "id": "ce890d9a-eb87-45fd-a54d-f2991853b01d",
   "metadata": {},
   "outputs": [],
   "source": [
    "X_train,X_test,y_train,y_test=train_test_split(df1['clean'],df1['Household'],test_size=0.2,random_state=42)"
   ]
  },
  {
   "cell_type": "code",
   "execution_count": 32,
   "id": "918c8bcb-d2f1-435f-be22-9af2ac6954e0",
   "metadata": {},
   "outputs": [
    {
     "data": {
      "text/plain": [
       "(40339, 1000)"
      ]
     },
     "execution_count": 32,
     "metadata": {},
     "output_type": "execute_result"
    }
   ],
   "source": [
    "vectorizer=TfidfVectorizer(max_features=1000)\n",
    "X_train_tfidf=vectorizer.fit_transform(X_train).toarray()\n",
    "X_test_tfidf=vectorizer.transform(X_test).toarray()\n",
    "X_train_tfidf.shape"
   ]
  },
  {
   "cell_type": "code",
   "execution_count": 19,
   "id": "6fd0b220-006d-4e83-9b7c-fa54f76a0625",
   "metadata": {},
   "outputs": [
    {
     "data": {
      "text/plain": [
       "array([1, 2, 0, 3])"
      ]
     },
     "execution_count": 19,
     "metadata": {},
     "output_type": "execute_result"
    }
   ],
   "source": [
    "y_train.unique()"
   ]
  },
  {
   "cell_type": "code",
   "execution_count": 71,
   "id": "39237bca-0192-49bf-8503-d0dcec1a8fca",
   "metadata": {},
   "outputs": [
    {
     "name": "stdout",
     "output_type": "stream",
     "text": [
      "(40339, 1000) (40339, 4)\n"
     ]
    },
    {
     "data": {
      "text/plain": [
       "(40339, 4)"
      ]
     },
     "execution_count": 71,
     "metadata": {},
     "output_type": "execute_result"
    }
   ],
   "source": [
    "print(X_train_tfidf.shape,(y_train.shape))\n",
    "y_train.shape"
   ]
  },
  {
   "cell_type": "code",
   "execution_count": 72,
   "id": "1f0b62fb-fab5-413b-9490-5e02de01da80",
   "metadata": {},
   "outputs": [
    {
     "name": "stderr",
     "output_type": "stream",
     "text": [
      "C:\\Users\\Rahul\\AppData\\Local\\Programs\\Python\\Python312\\Lib\\site-packages\\keras\\src\\layers\\core\\dense.py:87: UserWarning: Do not pass an `input_shape`/`input_dim` argument to a layer. When using Sequential models, prefer using an `Input(shape)` object as the first layer in the model instead.\n",
      "  super().__init__(activity_regularizer=activity_regularizer, **kwargs)\n"
     ]
    },
    {
     "data": {
      "text/plain": [
       "((40339, 1000), (40339, 4))"
      ]
     },
     "execution_count": 72,
     "metadata": {},
     "output_type": "execute_result"
    }
   ],
   "source": [
    "\n",
    "model=Sequential([\n",
    "    Dense(128,activation=\"relu\",input_shape=(X_train_tfidf.shape[1],)),\n",
    "    Dense(64,activation=\"relu\"),\n",
    "    Dense(4,activation=\"relu\")\n",
    "])\n",
    "X_train_tfidf.shape,y_train.shape"
   ]
  },
  {
   "cell_type": "code",
   "execution_count": 75,
   "id": "60c74ad4-6479-448d-a875-a6457a28049d",
   "metadata": {},
   "outputs": [
    {
     "name": "stdout",
     "output_type": "stream",
     "text": [
      "\u001b[1m20170/20170\u001b[0m \u001b[32m━━━━━━━━━━━━━━━━━━━━\u001b[0m\u001b[37m\u001b[0m \u001b[1m84s\u001b[0m 4ms/step - accuracy: 0.2359 - loss: nan \n"
     ]
    },
    {
     "data": {
      "text/plain": [
       "<keras.src.callbacks.history.History at 0x14d613dc3b0>"
      ]
     },
     "execution_count": 75,
     "metadata": {},
     "output_type": "execute_result"
    }
   ],
   "source": [
    "model.compile(optimizer='adam',loss='categorical_crossentropy',metrics=['accuracy'])\n",
    "model.fit(X_train_tfidf,y_train,batch_size=2)"
   ]
  },
  {
   "cell_type": "markdown",
   "id": "91433b04-e71d-44b7-adfe-2ce7afc52271",
   "metadata": {},
   "source": [
    "model.summary()"
   ]
  },
  {
   "cell_type": "code",
   "execution_count": 40,
   "id": "5ad19413-18f9-4b50-bfdc-7476f5b31094",
   "metadata": {},
   "outputs": [
    {
     "data": {
      "text/html": [
       "<pre style=\"white-space:pre;overflow-x:auto;line-height:normal;font-family:Menlo,'DejaVu Sans Mono',consolas,'Courier New',monospace\"><span style=\"font-weight: bold\">Model: \"sequential_7\"</span>\n",
       "</pre>\n"
      ],
      "text/plain": [
       "\u001b[1mModel: \"sequential_7\"\u001b[0m\n"
      ]
     },
     "metadata": {},
     "output_type": "display_data"
    },
    {
     "data": {
      "text/html": [
       "<pre style=\"white-space:pre;overflow-x:auto;line-height:normal;font-family:Menlo,'DejaVu Sans Mono',consolas,'Courier New',monospace\">┏━━━━━━━━━━━━━━━━━━━━━━━━━━━━━━━━━━━━━━┳━━━━━━━━━━━━━━━━━━━━━━━━━━━━━┳━━━━━━━━━━━━━━━━━┓\n",
       "┃<span style=\"font-weight: bold\"> Layer (type)                         </span>┃<span style=\"font-weight: bold\"> Output Shape                </span>┃<span style=\"font-weight: bold\">         Param # </span>┃\n",
       "┡━━━━━━━━━━━━━━━━━━━━━━━━━━━━━━━━━━━━━━╇━━━━━━━━━━━━━━━━━━━━━━━━━━━━━╇━━━━━━━━━━━━━━━━━┩\n",
       "│ dense_21 (<span style=\"color: #0087ff; text-decoration-color: #0087ff\">Dense</span>)                     │ (<span style=\"color: #00d7ff; text-decoration-color: #00d7ff\">None</span>, <span style=\"color: #00af00; text-decoration-color: #00af00\">128</span>)                 │         <span style=\"color: #00af00; text-decoration-color: #00af00\">128,128</span> │\n",
       "├──────────────────────────────────────┼─────────────────────────────┼─────────────────┤\n",
       "│ dense_22 (<span style=\"color: #0087ff; text-decoration-color: #0087ff\">Dense</span>)                     │ (<span style=\"color: #00d7ff; text-decoration-color: #00d7ff\">None</span>, <span style=\"color: #00af00; text-decoration-color: #00af00\">64</span>)                  │           <span style=\"color: #00af00; text-decoration-color: #00af00\">8,256</span> │\n",
       "├──────────────────────────────────────┼─────────────────────────────┼─────────────────┤\n",
       "│ dense_23 (<span style=\"color: #0087ff; text-decoration-color: #0087ff\">Dense</span>)                     │ (<span style=\"color: #00d7ff; text-decoration-color: #00d7ff\">None</span>, <span style=\"color: #00af00; text-decoration-color: #00af00\">4</span>)                   │             <span style=\"color: #00af00; text-decoration-color: #00af00\">260</span> │\n",
       "└──────────────────────────────────────┴─────────────────────────────┴─────────────────┘\n",
       "</pre>\n"
      ],
      "text/plain": [
       "┏━━━━━━━━━━━━━━━━━━━━━━━━━━━━━━━━━━━━━━┳━━━━━━━━━━━━━━━━━━━━━━━━━━━━━┳━━━━━━━━━━━━━━━━━┓\n",
       "┃\u001b[1m \u001b[0m\u001b[1mLayer (type)                        \u001b[0m\u001b[1m \u001b[0m┃\u001b[1m \u001b[0m\u001b[1mOutput Shape               \u001b[0m\u001b[1m \u001b[0m┃\u001b[1m \u001b[0m\u001b[1m        Param #\u001b[0m\u001b[1m \u001b[0m┃\n",
       "┡━━━━━━━━━━━━━━━━━━━━━━━━━━━━━━━━━━━━━━╇━━━━━━━━━━━━━━━━━━━━━━━━━━━━━╇━━━━━━━━━━━━━━━━━┩\n",
       "│ dense_21 (\u001b[38;5;33mDense\u001b[0m)                     │ (\u001b[38;5;45mNone\u001b[0m, \u001b[38;5;34m128\u001b[0m)                 │         \u001b[38;5;34m128,128\u001b[0m │\n",
       "├──────────────────────────────────────┼─────────────────────────────┼─────────────────┤\n",
       "│ dense_22 (\u001b[38;5;33mDense\u001b[0m)                     │ (\u001b[38;5;45mNone\u001b[0m, \u001b[38;5;34m64\u001b[0m)                  │           \u001b[38;5;34m8,256\u001b[0m │\n",
       "├──────────────────────────────────────┼─────────────────────────────┼─────────────────┤\n",
       "│ dense_23 (\u001b[38;5;33mDense\u001b[0m)                     │ (\u001b[38;5;45mNone\u001b[0m, \u001b[38;5;34m4\u001b[0m)                   │             \u001b[38;5;34m260\u001b[0m │\n",
       "└──────────────────────────────────────┴─────────────────────────────┴─────────────────┘\n"
      ]
     },
     "metadata": {},
     "output_type": "display_data"
    },
    {
     "data": {
      "text/html": [
       "<pre style=\"white-space:pre;overflow-x:auto;line-height:normal;font-family:Menlo,'DejaVu Sans Mono',consolas,'Courier New',monospace\"><span style=\"font-weight: bold\"> Total params: </span><span style=\"color: #00af00; text-decoration-color: #00af00\">409,934</span> (1.56 MB)\n",
       "</pre>\n"
      ],
      "text/plain": [
       "\u001b[1m Total params: \u001b[0m\u001b[38;5;34m409,934\u001b[0m (1.56 MB)\n"
      ]
     },
     "metadata": {},
     "output_type": "display_data"
    },
    {
     "data": {
      "text/html": [
       "<pre style=\"white-space:pre;overflow-x:auto;line-height:normal;font-family:Menlo,'DejaVu Sans Mono',consolas,'Courier New',monospace\"><span style=\"font-weight: bold\"> Trainable params: </span><span style=\"color: #00af00; text-decoration-color: #00af00\">136,644</span> (533.77 KB)\n",
       "</pre>\n"
      ],
      "text/plain": [
       "\u001b[1m Trainable params: \u001b[0m\u001b[38;5;34m136,644\u001b[0m (533.77 KB)\n"
      ]
     },
     "metadata": {},
     "output_type": "display_data"
    },
    {
     "data": {
      "text/html": [
       "<pre style=\"white-space:pre;overflow-x:auto;line-height:normal;font-family:Menlo,'DejaVu Sans Mono',consolas,'Courier New',monospace\"><span style=\"font-weight: bold\"> Non-trainable params: </span><span style=\"color: #00af00; text-decoration-color: #00af00\">0</span> (0.00 B)\n",
       "</pre>\n"
      ],
      "text/plain": [
       "\u001b[1m Non-trainable params: \u001b[0m\u001b[38;5;34m0\u001b[0m (0.00 B)\n"
      ]
     },
     "metadata": {},
     "output_type": "display_data"
    },
    {
     "data": {
      "text/html": [
       "<pre style=\"white-space:pre;overflow-x:auto;line-height:normal;font-family:Menlo,'DejaVu Sans Mono',consolas,'Courier New',monospace\"><span style=\"font-weight: bold\"> Optimizer params: </span><span style=\"color: #00af00; text-decoration-color: #00af00\">273,290</span> (1.04 MB)\n",
       "</pre>\n"
      ],
      "text/plain": [
       "\u001b[1m Optimizer params: \u001b[0m\u001b[38;5;34m273,290\u001b[0m (1.04 MB)\n"
      ]
     },
     "metadata": {},
     "output_type": "display_data"
    }
   ],
   "source": [
    "model.summary()"
   ]
  },
  {
   "cell_type": "code",
   "execution_count": 66,
   "id": "f789717f-4b86-4e8f-b5ec-dff95de06a75",
   "metadata": {},
   "outputs": [
    {
     "name": "stdout",
     "output_type": "stream",
     "text": [
      "\u001b[1m316/316\u001b[0m \u001b[32m━━━━━━━━━━━━━━━━━━━━\u001b[0m\u001b[37m\u001b[0m \u001b[1m1s\u001b[0m 2ms/step \n",
      "(10085,)\n"
     ]
    }
   ],
   "source": [
    "from sklearn.metrics import confusion_matrix\n",
    "y_probs = model.predict(X_test_tfidf)\n",
    "y_pred = np.argmax(y_probs, axis=1)\n",
    "y_true = np.argmax(y_test, axis=1)\n",
    "\n",
    "cm = confusion_matrix(y_true, y_pred)\n",
    "import matplotlib.pyplot as plt"
   ]
  },
  {
   "cell_type": "code",
   "execution_count": 63,
   "id": "0468ae21-a2b5-402e-ac3d-c6260716a6d4",
   "metadata": {},
   "outputs": [
    {
     "data": {
      "image/png": "[encoded data removed]",
      "text/plain": [
       "<Figure size 400x200 with 2 Axes>"
      ]
     },
     "metadata": {},
     "output_type": "display_data"
    }
   ],
   "source": [
    "plt.figure(figsize=(4,2))\n",
    "import seaborn as sns\n",
    "sns.heatmap(cm,annot=True,fmt='d',xticklabels=['True','Fake'],yticklabels=['True','Fake'])\n",
    "plt.show()"
   ]
  },
  {
   "cell_type": "code",
   "execution_count": 67,
   "id": "4fbdc811-da53-41d1-a897-be9bb7748ab4",
   "metadata": {},
   "outputs": [
    {
     "name": "stdout",
     "output_type": "stream",
     "text": [
      "\u001b[1m316/316\u001b[0m \u001b[32m━━━━━━━━━━━━━━━━━━━━\u001b[0m\u001b[37m\u001b[0m \u001b[1m1s\u001b[0m 2ms/step  \n",
      "Confusion Matrix (2x2):\n",
      "[[2235   14   44   86]\n",
      " [   9 1683   14   44]\n",
      " [  31    4 1946  101]\n",
      " [  42   39   64 3729]]\n"
     ]
    }
   ],
   "source": [
    "from sklearn.metrics import confusion_matrix, classification_report\n",
    "import numpy as np\n",
    "\n",
    "# Convert predictions to class labels\n",
    "y_probs = model.predict(X_test_tfidf)\n",
    "y_pred = np.argmax(y_probs, axis=1)\n",
    "\n",
    "# Convert one-hot test labels to class indices\n",
    "y_true = np.argmax(y_test, axis=1)\n",
    "\n",
    "# Compute 2x2 confusion matrix\n",
    "cm = confusion_matrix(y_true, y_pred)\n",
    "print(\"Confusion Matrix (2x2):\")\n",
    "print(cm)\n"
   ]
  },
  {
   "cell_type": "code",
   "execution_count": 70,
   "id": "6444b06d-147d-4217-9463-10d265079201",
   "metadata": {},
   "outputs": [
    {
     "name": "stdout",
     "output_type": "stream",
     "text": [
      "              precision    recall  f1-score   support\n",
      "\n",
      "                   0.96      0.94      0.95      2379\n",
      "                   0.97      0.96      0.96      1750\n",
      "        True       0.94      0.93      0.94      2082\n",
      "        Fake       0.94      0.96      0.95      3874\n",
      "\n",
      "    accuracy                           0.95     10085\n",
      "   macro avg       0.95      0.95      0.95     10085\n",
      "weighted avg       0.95      0.95      0.95     10085\n",
      "\n"
     ]
    }
   ],
   "source": [
    "\n",
    "print(classification_report(y_true, y_pred, target_names=['','','True', 'Fake']))"
   ]
  },
  {
   "cell_type": "code",
   "execution_count": null,
   "id": "2b063afa-bb6d-4dcd-a39e-efadeea1945a",
   "metadata": {},
   "outputs": [],
   "source": []
  }
 ],
 "metadata": {
  "kernelspec": {
   "display_name": "Python 3 (ipykernel)",
   "language": "python",
   "name": "python3"
  },
  "language_info": {
   "codemirror_mode": {
    "name": "ipython",
    "version": 3
   },
   "file_extension": ".py",
   "mimetype": "text/x-python",
   "name": "python",
   "nbconvert_exporter": "python",
   "pygments_lexer": "ipython3",
   "version": "3.12.5"
  }
 },
 "nbformat": 4,
 "nbformat_minor": 5
}
