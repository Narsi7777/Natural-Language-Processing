{
 "cells": [
  {
   "cell_type": "code",
   "execution_count": 2,
   "id": "7172a81d-f685-4215-8aa6-b17f58472620",
   "metadata": {},
   "outputs": [
    {
     "name": "stdout",
     "output_type": "stream",
     "text": [
      "[[[(Det, 0.5)], [(NP, 0.03)], [], [], [(S, 0.00048599999999999994)]], [[], [(N, 0.2)], [], [], []], [[], [], [(V, 0.6)], [], [(VP, 0.018)]], [[], [], [], [(Det, 0.5)], [(NP, 0.06)]], [[], [], [], [], [(N, 0.4)]]]\n"
     ]
    },
    {
     "data": {
      "text/plain": [
       "[(S, 0.00048599999999999994)]"
      ]
     },
     "execution_count": 2,
     "metadata": {},
     "output_type": "execute_result"
    }
   ],
   "source": [
    "import nltk \n",
    "from nltk import PCFG\n",
    "grammar=PCFG.fromstring(\"\"\"\n",
    "S -> NP VP [0.9]\n",
    "S -> VP [0.1]\n",
    "VP -> V NP [0.5]\n",
    "VP -> V [0.5]\n",
    "NP -> Det N [0.3]\n",
    "NP -> N [0.7]\n",
    "N -> 'cat' [0.2]\n",
    "N -> 'book' [0.2]\n",
    "N -> 'bird' [0.2]\n",
    "N -> 'dog' [0.4]\n",
    "V -> 'read' [0.1]\n",
    "V -> 'chased' [0.6]\n",
    "V -> 'ate' [0.3]\n",
    "Det -> 'the' [0.5]\n",
    "Det -> 'a' [0.5]\n",
    "\"\"\")\n",
    "\n",
    "def cyk(pcfg,sentence):\n",
    "    n=len(sentence)\n",
    "    table=[[[] for _ in range(n)]for _ in range(n)]\n",
    "    for i in range(n):\n",
    "        for prod in pcfg.productions(rhs=sentence[i]):\n",
    "            table[i][i]=[(prod.lhs(),prod.prob())]\n",
    "    for length in range(2,n+1):\n",
    "        for i in range(n-length+1):\n",
    "            j=i+length-1\n",
    "            for k in range(i,j):\n",
    "                for prod in pcfg.productions():\n",
    "                    for left,left_prob in table[i][k]:\n",
    "                        for right,right_prob in table[k+1][j]:\n",
    "                            if prod.rhs()==(left,right):\n",
    "                                prob=left_prob*right_prob*prod.prob()\n",
    "                                table[i][j].append((prod.lhs(),prob))\n",
    "    print(table)\n",
    "    return table[0][n-1]                 \n",
    "sent=\"the cat chased the dog\"\n",
    "prob=cyk(grammar,sent.lower().split())\n",
    "prob"
   ]
  },
  {
   "cell_type": "code",
   "execution_count": 4,
   "id": "648f8b5c-f228-4374-9d4c-7a7e5a7c7ea3",
   "metadata": {},
   "outputs": [
    {
     "name": "stdout",
     "output_type": "stream",
     "text": [
      "(S\n",
      "  (NP (Det the) (N cat))\n",
      "  (VP (V chased) (NP (Det the) (N dog)))) (p=0.000486)\n",
      "              S               \n",
      "      ________|_____           \n",
      "     |              VP        \n",
      "     |         _____|___       \n",
      "     NP       |         NP    \n",
      "  ___|___     |      ___|___   \n",
      "Det      N    V    Det      N \n",
      " |       |    |     |       |  \n",
      "the     cat chased the     dog\n",
      "\n"
     ]
    }
   ],
   "source": [
    "parser=nltk.ViterbiParser(grammar)\n",
    "token=nltk.word_tokenize(sent)\n",
    "trees=list(parser.parse(token))\n",
    "for tree in trees:\n",
    "    print(tree)\n",
    "    tree.pretty_print()"
   ]
  },
  {
   "cell_type": "code",
   "execution_count": null,
   "id": "feb96faa-7852-44ec-a05d-a0aefec79600",
   "metadata": {},
   "outputs": [],
   "source": []
  }
 ],
 "metadata": {
  "kernelspec": {
   "display_name": "Python 3 (ipykernel)",
   "language": "python",
   "name": "python3"
  },
  "language_info": {
   "codemirror_mode": {
    "name": "ipython",
    "version": 3
   },
   "file_extension": ".py",
   "mimetype": "text/x-python",
   "name": "python",
   "nbconvert_exporter": "python",
   "pygments_lexer": "ipython3",
   "version": "3.12.5"
  }
 },
 "nbformat": 4,
 "nbformat_minor": 5
}
