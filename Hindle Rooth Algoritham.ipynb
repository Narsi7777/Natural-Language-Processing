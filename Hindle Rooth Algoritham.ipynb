{
 "cells": [
  {
   "attachments": {},
   "cell_type": "markdown",
   "id": "9fbb728f",
   "metadata": {},
   "source": [
    "# HINDLE ROOTH ALGORITHAM\n",
    "\n"
   ]
  },
  {
   "cell_type": "code",
   "execution_count": 19,
   "id": "d19c2ca2",
   "metadata": {},
   "outputs": [
    {
     "name": "stdout",
     "output_type": "stream",
     "text": [
      "Enter Noun frequency1442\n",
      "Enter Verb frequency5156\n",
      "Enter frequency of Noun attached to PP155\n",
      "Enter frequency of Verb attached to PP607\n",
      "\n",
      "\n",
      "likelihood ratio\n",
      "\n",
      " -0.03281\n",
      "\n",
      "\n",
      "PP is attached with Noun\n"
     ]
    }
   ],
   "source": [
    "import math\n",
    "nounFreq=int(input(\"Enter Noun frequency\"))\n",
    "verbFreq=int(input(\"Enter Verb frequency\"))\n",
    "nounWithPP=int(input(\"Enter frequency of Noun attached to PP\"))\n",
    "verbWithPp=int(input(\"Enter frequency of Verb attached to PP\"))\n",
    "\n",
    "probOfVerbWithPP=verbWithPp/verbFreq\n",
    "probOfNounWithPP=nounWithPP/nounFreq\n",
    "probOfNounWithOutPP=1-probOfNounWithPP\n",
    "\n",
    "ans=round(math.log((probOfVerbWithPP*probOfNounWithOutPP)/probOfNounWithPP)/math.log(2),5)\n",
    "print(\"\\n\\nlikelihood ratio\\n\\n\",ans)\n",
    "if(ans>0):\n",
    "    print(\"\\n\\nPP is attached with Verb\")\n",
    "else:\n",
    "    print(\"\\n\\nPP is attached with Noun\")"
   ]
  }
 ],
 "metadata": {
  "kernelspec": {
   "display_name": "Python 3 (ipykernel)",
   "language": "python",
   "name": "python3"
  },
  "language_info": {
   "codemirror_mode": {
    "name": "ipython",
    "version": 3
   },
   "file_extension": ".py",
   "mimetype": "text/x-python",
   "name": "python",
   "nbconvert_exporter": "python",
   "pygments_lexer": "ipython3",
   "version": "3.11.3"
  }
 },
 "nbformat": 4,
 "nbformat_minor": 5
}
