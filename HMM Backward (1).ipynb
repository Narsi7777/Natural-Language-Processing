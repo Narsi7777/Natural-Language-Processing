{
 "cells": [
  {
   "cell_type": "code",
   "execution_count": 44,
   "id": "6101b3dc-0cfb-4f52-b5b1-9c36f9a81e1c",
   "metadata": {},
   "outputs": [
    {
     "data": {
      "text/plain": [
       "[[0.7, 0.3], [0.5, 0.5]]"
      ]
     },
     "execution_count": 44,
     "metadata": {},
     "output_type": "execute_result"
    }
   ],
   "source": [
    "#defined input\n",
    "\n",
    "noOfStates=2\n",
    "noOfEmissions=3\n",
    "# transsionProb={\n",
    "#     \"cp\":{\"cp\":0.7,\"ip\":0.3},\n",
    "#     \"ip\":{\"cp\":0.5,\"ip\":0.5}\n",
    "# }\n",
    "transsionProb=[\n",
    "    [0.7,0.3],\n",
    "    [0.5,0.5]\n",
    "]\n",
    "\n",
    "# emissionProb={\n",
    "#     \"cp\":{\"cola\":0.6,\"icet\":0.1,\"lem\":0.3},\n",
    "#     \"ip\":{\"cola\":0.1,\"icet\":0.7,\"lem\":0.2}\n",
    "# }\n",
    "emissionProb=[\n",
    "    [0.3,0.1,0.6],\n",
    "    [0.2,0.7,0.1]\n",
    "]\n",
    "initialProbs=[1,0]\n",
    "emissionProb\n",
    "transsionProb"
   ]
  },
  {
   "cell_type": "code",
   "execution_count": 54,
   "id": "a0a73db8-1962-49b2-8dd2-9ac18cfd808e",
   "metadata": {},
   "outputs": [],
   "source": [
    "# for manual input use code from forword algo"
   ]
  },
  {
   "cell_type": "code",
   "execution_count": 46,
   "id": "faf9c39a-8817-4f55-a78e-165f760c93cd",
   "metadata": {},
   "outputs": [
    {
     "data": {
      "text/plain": [
       "[[0, 0, 0, 1], [0, 0, 0, 1]]"
      ]
     },
     "execution_count": 46,
     "metadata": {},
     "output_type": "execute_result"
    }
   ],
   "source": [
    "table=[[0 for _ in range(noOfEmissions+1)] for _ in range(noOfStates)]\n",
    "table\n",
    "#filling intial probs\n",
    "for i in range(noOfStates):\n",
    "    table[i][noOfEmissions]=1\n",
    "table"
   ]
  },
  {
   "cell_type": "code",
   "execution_count": 48,
   "id": "2d66a83b-1cbb-4e8d-9f49-03ffb28d18b5",
   "metadata": {},
   "outputs": [
    {
     "name": "stdout",
     "output_type": "stream",
     "text": [
      "[[0.0315, 0.045, 0.6, 1], [0.029, 0.245, 0.1, 1]]\n"
     ]
    },
    {
     "data": {
      "text/plain": [
       "2"
      ]
     },
     "execution_count": 48,
     "metadata": {},
     "output_type": "execute_result"
    }
   ],
   "source": [
    "for i in range(noOfEmissions-1,-1,-1):\n",
    "    for j in range(noOfStates):\n",
    "        for k in range(noOfStates):\n",
    "            table[j][i]+=table[k][i+1]*transsionProb[j][k]*emissionProb[j][i]\n",
    "        table[j][i]=round(table[j][i],5)\n",
    "print(table)\n",
    "ans=0\n",
    "for i in range(noOfStates):\n",
    "    ans+=table[i][noOfEmissions]\n",
    "ans=round(ans,4)\n",
    "ans"
   ]
  },
  {
   "cell_type": "code",
   "execution_count": 52,
   "id": "6e1af665-6ad8-41d2-8df1-e98ed77a4ad1",
   "metadata": {},
   "outputs": [
    {
     "data": {
      "text/plain": [
       "0.0315"
      ]
     },
     "execution_count": 52,
     "metadata": {},
     "output_type": "execute_result"
    }
   ],
   "source": [
    "ans=0\n",
    "for i in range(noOfStates):\n",
    "    ans+=initialProbs[i]*table[i][0]\n",
    "ans"
   ]
  },
  {
   "cell_type": "code",
   "execution_count": null,
   "id": "a24636be-4beb-4e1c-9f07-56a54a2c6628",
   "metadata": {},
   "outputs": [],
   "source": []
  }
 ],
 "metadata": {
  "kernelspec": {
   "display_name": "Python [conda env:base] *",
   "language": "python",
   "name": "conda-base-py"
  },
  "language_info": {
   "codemirror_mode": {
    "name": "ipython",
    "version": 3
   },
   "file_extension": ".py",
   "mimetype": "text/x-python",
   "name": "python",
   "nbconvert_exporter": "python",
   "pygments_lexer": "ipython3",
   "version": "3.12.3"
  }
 },
 "nbformat": 4,
 "nbformat_minor": 5
}
