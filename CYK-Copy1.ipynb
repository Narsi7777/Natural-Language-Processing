{
 "cells": [
  {
   "cell_type": "code",
   "execution_count": 50,
   "id": "073c964f-cd02-4399-8ba3-6e4dc50614fe",
   "metadata": {},
   "outputs": [],
   "source": [
    "class Rule:\n",
    "    def __init__(self,left,right,probability):\n",
    "        self.left=left\n",
    "        self.right=right\n",
    "        self.probability=probability\n",
    "\n",
    "    def __str__(self):\n",
    "        return f\"{self.left}->{self.right} {self.probability}\"\n",
    "        "
   ]
  },
  {
   "cell_type": "code",
   "execution_count": 112,
   "id": "d9429548-4948-496f-8478-4d7eb2543027",
   "metadata": {},
   "outputs": [
    {
     "name": "stdout",
     "output_type": "stream",
     "text": [
      "S->['NP', 'VP'] 1.0\n",
      "PP->['P', 'NP'] 1.0\n",
      "VP->['V', 'NP'] 0.7\n",
      "VP->['VP', 'PP'] 0.3\n",
      "P->['WITH'] 1.0\n",
      "V->['SAW'] 1.0\n",
      "NP->['NP', 'PP'] 0.4\n",
      "NP->['ASTRONOMERS'] 0.1\n",
      "NP->['EARS'] 0.18\n",
      "NP->['SAW'] 0.04\n",
      "NP->['STARS'] 0.18\n",
      "NP->['TELESCOPE'] 0.1\n"
     ]
    }
   ],
   "source": [
    "import pickle\n",
    "rules=pickle.load(open(\"rules.data\",'rb'))\n",
    "for i in rules:\n",
    "    print(i)\n",
    "z=len(rules)"
   ]
  },
  {
   "cell_type": "code",
   "execution_count": 90,
   "id": "4a44176f-760a-4baf-a8a6-1acacf1694ac",
   "metadata": {},
   "outputs": [
    {
     "name": "stdin",
     "output_type": "stream",
     "text": [
      "Enter number of words 5\n",
      "enter 1 the word astronomers\n",
      "enter 2 the word saw\n",
      "enter 3 the word stars\n",
      "enter 4 the word with\n",
      "enter 5 the word telescope\n"
     ]
    },
    {
     "name": "stdout",
     "output_type": "stream",
     "text": [
      "['ASTRONOMERS', 'SAW', 'STARS', 'WITH', 'TELESCOPE']\n"
     ]
    }
   ],
   "source": [
    "words=[]\n",
    "n=int(input(\"Enter number of words\"))\n",
    "for i in range(n):\n",
    "    words.append(input(f\"enter {i+1} the word\").upper())\n",
    "print(words)"
   ]
  },
  {
   "cell_type": "code",
   "execution_count": 104,
   "id": "444e998c-83a9-4f4b-a8f4-fd6652715ec2",
   "metadata": {},
   "outputs": [],
   "source": [
    "def findRuleWithWord(wrd):\n",
    "    a=[]\n",
    "    for rule in rules:\n",
    "        if rule.right == [wrd]:  # match only terminal productions\n",
    "            a.append(deepcopy(rule))  # deepcopy is critical\n",
    "    return a\n"
   ]
  },
  {
   "cell_type": "code",
   "execution_count": 100,
   "id": "89b27dd9-c1cb-413e-aa87-514dc248479c",
   "metadata": {},
   "outputs": [],
   "source": [
    "def findCombinations(x,y):\n",
    "    comb=[]\n",
    "    for i in range(x,y):\n",
    "        comb.append(((x,i),(i+1,y)))\n",
    "    return comb"
   ]
  },
  {
   "cell_type": "code",
   "execution_count": 106,
   "id": "37c0bf28-3340-4e76-83cd-4b7b81e88222",
   "metadata": {},
   "outputs": [
    {
     "name": "stdout",
     "output_type": "stream",
     "text": [
      "[[\"NP->['ASTRONOMERS'] 0.1\"], [], [\"S->['NP', 'VP'] 0.0126\"], [], [\"S->['NP', 'VP'] 0.000504\", \"S->['NP', 'VP'] 0.000378\"]]\n",
      "[[], [\"V->['SAW'] 1.0\", \"NP->['SAW'] 0.04\"], [\"VP->['V', 'NP'] 0.126\"], [], [\"VP->['V', 'NP'] 0.005039999999999999\", \"VP->['VP', 'PP'] 0.00378\"]]\n",
      "[[], [], [\"NP->['STARS'] 0.18\"], [], [\"NP->['NP', 'PP'] 0.0072\"]]\n",
      "[[], [], [], [\"P->['WITH'] 1.0\"], [\"PP->['P', 'NP'] 0.1\"]]\n",
      "[[], [], [], [], [\"NP->['TELESCOPE'] 0.1\"]]\n"
     ]
    }
   ],
   "source": [
    "from copy import deepcopy\n",
    "matrix=[[[] for i in range(len(words))]for j in range(len(words))]\n",
    "for i in range(n):\n",
    "    for j in range(n):\n",
    "        if i+j < len(words):\n",
    "            x=j\n",
    "            y=i+j\n",
    "            if x==y:\n",
    "                matrix[x][y]=findRuleWithWord(words[x])\n",
    "            else:\n",
    "                comb=findCombinations(x,y)\n",
    "                data=[]\n",
    "                for k in comb:\n",
    "                    f=matrix[k[0][0]][k[0][1]]\n",
    "                    g=matrix[k[1][0]][k[1][1]]\n",
    "                    for p in f:\n",
    "                        for q in g:\n",
    "                            for r in rules:\n",
    "                                if r.right==[p.left,q.left]:\n",
    "                                    a=deepcopy(r)\n",
    "                                    a.probability = p.probability*q.probability*r.probability\n",
    "                                    data.append(a)\n",
    "                matrix[x][y]=data\n",
    "for row in matrix:\n",
    "    print([[str(rule) for rule in cell] for cell in row])"
   ]
  },
  {
   "cell_type": "code",
   "execution_count": 110,
   "id": "1d5326d9-32ee-42de-851a-5e3e7af2f43b",
   "metadata": {},
   "outputs": [
    {
     "name": "stdout",
     "output_type": "stream",
     "text": [
      "[[\"NP->['ASTRONOMERS'] 0.1\"], [], [\"S->['NP', 'VP'] 0.0126\"], [], [\"S->['NP', 'VP'] 0.000504\", \"S->['NP', 'VP'] 0.000378\"]]\n",
      "[[], [\"V->['SAW'] 1.0\", \"NP->['SAW'] 0.04\"], [\"VP->['V', 'NP'] 0.126\"], [], [\"VP->['V', 'NP'] 0.005039999999999999\", \"VP->['VP', 'PP'] 0.00378\"]]\n",
      "[[], [], [\"NP->['STARS'] 0.18\"], [], [\"NP->['NP', 'PP'] 0.0072\"]]\n",
      "[[], [], [], [\"P->['WITH'] 1.0\"], [\"PP->['P', 'NP'] 0.1\"]]\n",
      "[[], [], [], [], [\"NP->['TELESCOPE'] 0.1\"]]\n"
     ]
    }
   ],
   "source": []
  },
  {
   "cell_type": "code",
   "execution_count": 114,
   "id": "0f4fb08c-f005-46fa-b603-e12d67550dfa",
   "metadata": {},
   "outputs": [
    {
     "name": "stdout",
     "output_type": "stream",
     "text": [
      "\n",
      "Final CYK Matrix (Inside Probabilities):\n",
      "\n",
      "['[NP->[ASTRONOMERS] 0.1]', '[]', '[S->[NP, VP] 0.0126]', '[]', '[S->[NP, VP] 0.0006804000000000001]']\n",
      "['[]', '[V->[SAW] 1.0, NP->[SAW] 0.04]', '[VP->[V, NP] 0.126]', '[]', '[VP->[VP, PP] 0.006804]']\n",
      "['[]', '[]', '[NP->[STARS] 0.18]', '[]', '[]']\n",
      "['[]', '[]', '[]', '[P->[WITH] 1.0]', '[PP->[P, NP] 0.18]']\n",
      "['[]', '[]', '[]', '[]', '[NP->[EARS] 0.18]']\n"
     ]
    }
   ],
   "source": [
    "from copy import deepcopy\n",
    "\n",
    "# Define Rule class\n",
    "class Rule:\n",
    "    def __init__(self, left, right, probability):\n",
    "        self.left = left\n",
    "        self.right = right\n",
    "        self.probability = probability\n",
    "\n",
    "    def __str__(self):\n",
    "        return f\"{self.left}->[{', '.join(self.right)}] {self.probability}\"\n",
    "\n",
    "# Define rules (same as image)\n",
    "rules = [\n",
    "    Rule('S', ['NP', 'VP'], 1.0),\n",
    "    Rule('PP', ['P', 'NP'], 1.0),\n",
    "    Rule('VP', ['V', 'NP'], 0.7),\n",
    "    Rule('VP', ['VP', 'PP'], 0.3),\n",
    "    Rule('P', ['WITH'], 1.0),\n",
    "    Rule('V', ['SAW'], 1.0),\n",
    "    Rule('NP', ['ASTRONOMERS'], 0.1),\n",
    "    Rule('NP', ['EARS'], 0.18),\n",
    "    Rule('NP', ['SAW'], 0.04),\n",
    "    Rule('NP', ['STARS'], 0.18),\n",
    "    Rule('NP', ['TELESCOPES'], 0.1),\n",
    "]\n",
    "\n",
    "# Input sentence\n",
    "words = ['ASTRONOMERS', 'SAW', 'STARS', 'WITH', 'EARS']\n",
    "n = len(words)\n",
    "\n",
    "# Function to find rules that produce a terminal word\n",
    "def findRuleWithWord(word):\n",
    "    return [deepcopy(rule) for rule in rules if rule.right == [word]]\n",
    "\n",
    "# Generate combinations of splits\n",
    "def findCombinations(x, y):\n",
    "    return [((x, i), (i + 1, y)) for i in range(x, y)]\n",
    "\n",
    "# Initialize matrix\n",
    "matrix = [[[] for _ in range(n)] for _ in range(n)]\n",
    "\n",
    "# CYK Algorithm with inside probabilities\n",
    "for i in range(n):\n",
    "    for j in range(n):\n",
    "        if i + j < n:\n",
    "            x = j\n",
    "            y = i + j\n",
    "            if x == y:\n",
    "                matrix[x][y] = findRuleWithWord(words[x])\n",
    "            else:\n",
    "                combinations = findCombinations(x, y)\n",
    "                entries = []\n",
    "                for ((x1, y1), (x2, y2)) in combinations:\n",
    "                    left_rules = matrix[x1][y1]\n",
    "                    right_rules = matrix[x2][y2]\n",
    "                    for p in left_rules:\n",
    "                        for q in right_rules:\n",
    "                            for rule in rules:\n",
    "                                if rule.right == [p.left, q.left]:\n",
    "                                    new_rule = deepcopy(rule)\n",
    "                                    new_rule.probability = rule.probability * p.probability * q.probability\n",
    "                                    entries.append(new_rule)\n",
    "                matrix[x][y] = entries\n",
    "\n",
    "# Output in the expected format\n",
    "print(\"\\nFinal CYK Matrix (Inside Probabilities):\\n\")\n",
    "for row in matrix:\n",
    "    formatted_row = []\n",
    "    for cell in row:\n",
    "        if not cell:\n",
    "            formatted_row.append(\"[]\")\n",
    "        else:\n",
    "            rules_str = \", \".join([str(rule) for rule in cell])\n",
    "            formatted_row.append(f\"[{rules_str}]\")\n",
    "    print(formatted_row)"
   ]
  },
  {
   "cell_type": "code",
   "execution_count": 31,
   "id": "fde61620-f914-49be-8309-63e85ffe8729",
   "metadata": {},
   "outputs": [
    {
     "name": "stdout",
     "output_type": "stream",
     "text": [
      "0.00065625\n",
      "          S               \n",
      "    ______|____            \n",
      "   |           VP         \n",
      "   |       ____|_____      \n",
      "   NN     VB         NN   \n",
      "   |      |          |     \n",
      "students like     painting\n",
      "\n",
      "0.00065625\n"
     ]
    }
   ],
   "source": [
    "from nltk import PCFG,ViterbiParser\n",
    "import pandas as pd\n",
    "import numpy as np\n",
    "grammar = PCFG.fromstring(\"\"\"\n",
    "S -> NN VP [0.50] | VP NP [0.50]\n",
    "NP -> NN PP [0.70] | PP NN [0.30]\n",
    "VP -> VB NP [0.30] | VB NN [0.35] | VP NP [0.20] | VB PP [0.15]\n",
    "PP -> P VP [0.50] | P NN [0.50]\n",
    "P -> 'with' [0.30] | 'after' [0.25] | 'to' [0.15] | 'without' [0.15] | 'before' [0.10] | 'into' [0.05]\n",
    "VB -> 'play' [0.20] | 'watch' [0.20] | 'enjoy' [0.20] | 'like' [0.15] | 'listen' [0.10] | 'enjoy' [0.15]\n",
    "NN -> 'children' [0.15] | 'cricket' [0.15] | 'friends' [0.20] | 'students' [0.10] | 'football' [0.15] | 'painting' [0.25]\n",
    "\"\"\")\n",
    "\n",
    "vitParser=ViterbiParser(grammar)\n",
    "\n",
    "sentence=['students', 'like', 'painting']#input(\"Enter the sentence\").strip().split()\n",
    "# print(sentence)\n",
    "parsers=list(vitParser.parse(sentence))\n",
    "# print(parsers)\n",
    "parseData=[(str(tree),tree.prob()) for tree in parsers]\n",
    "# print(parseData)\n",
    "df=pd.DataFrame(parseData,columns=['Parse Tree',\"Probability\"])\n",
    "meanProb=np.mean(df['Probability']) if not df.empty else 0\n",
    "print(meanProb)\n",
    "\n",
    "\n",
    "from nltk import InsideChartParser\n",
    "parser=InsideChartParser(grammar)\n",
    "tokens=[\"students\",\"like\",\"painting\"]\n",
    "for tree in vitParser.parse(tokens):\n",
    "    tree.pretty_print()\n",
    "    print(tree.prob())"
   ]
  },
  {
   "cell_type": "code",
   "execution_count": 39,
   "id": "684e17aa-5ad8-4caf-84ed-b2b2faf4c811",
   "metadata": {},
   "outputs": [
    {
     "name": "stdin",
     "output_type": "stream",
     "text": [
      "Enter a sentence to parse:  astronomers saw stars with ears\n"
     ]
    },
    {
     "name": "stdout",
     "output_type": "stream",
     "text": [
      "\n",
      "Parse Results using Viterbi Parsing:\n",
      "                                          Parse Tree  Probability\n",
      "0  (S\\n  (NP astronomers)\\n  (VP (V saw) (NP (NP ...     0.000907\n",
      "Mean Probability of Parses: 0.0009071999999999999\n",
      "                  S                    \n",
      "      ____________|____                 \n",
      "     |                 VP              \n",
      "     |        _________|___             \n",
      "     |       |             NP          \n",
      "     |       |     ________|____        \n",
      "     |       |    |             PP     \n",
      "     |       |    |         ____|___    \n",
      "     NP      V    NP       P        NP \n",
      "     |       |    |        |        |   \n",
      "astronomers saw stars     with     ears\n",
      "\n",
      "PROBABILITY:  0.0009071999999999999\n",
      "                      S                    \n",
      "      ________________|____                 \n",
      "     |                     VP              \n",
      "     |            _________|________        \n",
      "     |           VP                 PP     \n",
      "     |        ___|____          ____|___    \n",
      "     NP      V        NP       P        NP \n",
      "     |       |        |        |        |   \n",
      "astronomers saw     stars     with     ears\n",
      "\n",
      "PROBABILITY:  0.0006804000000000001\n"
     ]
    }
   ],
   "source": [
    "import numpy as np\n",
    "import pandas as pd\n",
    "import nltk\n",
    "from nltk import PCFG, ViterbiParser\n",
    "\n",
    "# grammar = PCFG.fromstring(\"\"\"\n",
    "# S -> NP VP [0.9] \n",
    "# S -> VP [0.1] \n",
    "# NP -> Det N [0.8]\n",
    "# NP -> Det N PP [0.2]\n",
    "# VP -> V NP [0.7] \n",
    "# VP -> V PP [0.3]\n",
    "# Det -> 'the' [1.0]\n",
    "# N -> 'cat' [0.6]\n",
    "# N -> 'dog' [0.4]\n",
    "# V -> 'chases' [0.7]\n",
    "# V -> 'sees' [0.3]\n",
    "# PP -> P NP [1.0]\n",
    "# P -> 'in' [1.0]\n",
    "# \"\"\")\n",
    "\n",
    "grammar = PCFG.fromstring(\"\"\"\n",
    "S -> NP VP [1.0]\n",
    "VP -> V NP [0.7] | VP PP [0.3]\n",
    "PP -> P NP [1.0]\n",
    "P -> 'with' [1.0]\n",
    "V -> 'saw' [1.0]\n",
    "NP -> NP PP [0.4] | 'astronomers' [0.1] | 'ears' [0.18] | 'saw' [0.04] | 'stars' [0.18] | 'telescopes' [0.1]\n",
    "\"\"\")\n",
    "\n",
    "def main():\n",
    "    pcfg_grammar = grammar\n",
    "    viterbi_parser = ViterbiParser(pcfg_grammar)\n",
    "    \n",
    "    sentence = input(\"Enter a sentence to parse: \").strip().split()\n",
    "    parses = list(viterbi_parser.parse(sentence))\n",
    "    \n",
    "    parse_data = [(str(tree), tree.prob()) for tree in parses]\n",
    "    df = pd.DataFrame(parse_data, columns=['Parse Tree', 'Probability'])\n",
    "    \n",
    "    print(\"\\nParse Results using Viterbi Parsing:\")\n",
    "    print(df)\n",
    "    \n",
    "    mean_prob = np.mean(df['Probability']) if not df.empty else 0\n",
    "    print(\"Mean Probability of Parses:\", mean_prob)\n",
    "\n",
    "if __name__ == \"__main__\":\n",
    "    main()\n",
    "\n",
    "from nltk import InsideChartParser\n",
    "\n",
    "parser = InsideChartParser(grammar)\n",
    "sentence=['astronomers','saw','stars','with','ears']\n",
    "for tree in parser.parse(sentence):\n",
    "    tree.pretty_print()\n",
    "    print(\"PROBABILITY: \",tree.prob())"
   ]
  }
 ],
 "metadata": {
  "kernelspec": {
   "display_name": "Python [conda env:base] *",
   "language": "python",
   "name": "conda-base-py"
  },
  "language_info": {
   "codemirror_mode": {
    "name": "ipython",
    "version": 3
   },
   "file_extension": ".py",
   "mimetype": "text/x-python",
   "name": "python",
   "nbconvert_exporter": "python",
   "pygments_lexer": "ipython3",
   "version": "3.12.3"
  }
 },
 "nbformat": 4,
 "nbformat_minor": 5
}
