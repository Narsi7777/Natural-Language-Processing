{
 "cells": [
  {
   "cell_type": "code",
   "execution_count": 2,
   "id": "007bf210-fed9-443c-b625-ca0e8b31e1f6",
   "metadata": {},
   "outputs": [
    {
     "data": {
      "text/plain": [
       "[[0.7, 0.3], [0.5, 0.5]]"
      ]
     },
     "execution_count": 2,
     "metadata": {},
     "output_type": "execute_result"
    }
   ],
   "source": [
    "#defined input\n",
    "\n",
    "noOfStates=2\n",
    "noOfEmissions=3\n",
    "# transsionProb={\n",
    "#     \"cp\":{\"cp\":0.7,\"ip\":0.3},\n",
    "#     \"ip\":{\"cp\":0.5,\"ip\":0.5}\n",
    "# }\n",
    "transsionProb=[\n",
    "    [0.7,0.3],\n",
    "    [0.5,0.5]\n",
    "]\n",
    "# emissionProb={\n",
    "#     \"cp\":{\"cola\":0.6,\"icet\":0.1,\"lem\":0.3},\n",
    "#     \"ip\":{\"cola\":0.1,\"icet\":0.7,\"lem\":0.2}\n",
    "# }\n",
    "emissionProb=[\n",
    "    [0.3,0.1,0.6],\n",
    "    [0.2,0.7,0.1]\n",
    "]\n",
    "initialProbs=[1,0]\n",
    "emissionProb\n",
    "transsionProb"
   ]
  },
  {
   "cell_type": "code",
   "execution_count": 22,
   "id": "69419038-8727-4588-abb5-aad7185101c9",
   "metadata": {},
   "outputs": [
    {
     "data": {
      "text/plain": [
       "[[1, 0, 0, 0], [0, 0, 0, 0]]"
      ]
     },
     "execution_count": 22,
     "metadata": {},
     "output_type": "execute_result"
    }
   ],
   "source": [
    "table=[[0 for _ in range(noOfEmissions+1)] for _ in range(noOfStates)]\n",
    "table\n",
    "#filling intial probs\n",
    "for i in range(noOfStates):\n",
    "    table[i][0]=initialProbs[i]\n",
    "table"
   ]
  },
  {
   "cell_type": "code",
   "execution_count": 24,
   "id": "ff5c9308-76a1-46bb-bea2-0af5e25c1ca9",
   "metadata": {},
   "outputs": [
    {
     "data": {
      "text/plain": [
       "[[[0, 0], [0, 0], [0, 0], [0, 0]], [[0, 0], [0, 0], [0, 0], [0, 0]]]"
      ]
     },
     "execution_count": 24,
     "metadata": {},
     "output_type": "execute_result"
    }
   ],
   "source": [
    "for_seq=[[[0,0] for _ in range(noOfEmissions+1)]for _ in range(noOfStates)]\n",
    "for_seq"
   ]
  },
  {
   "cell_type": "code",
   "execution_count": 26,
   "id": "44b6d02a-eae7-4bf8-9ea6-ecda5c81ad7f",
   "metadata": {},
   "outputs": [
    {
     "name": "stdout",
     "output_type": "stream",
     "text": [
      "[[1, 0.21, 0.0315, 0.0132], [0, 0.09, 0.0315, 0.0057]]\n",
      "[[[0, 0], [0, 0], [1, 1], [0, 2]], [[0, 0], [0, 0], [1, 1], [0, 2]]]\n",
      "0.0189\n"
     ]
    }
   ],
   "source": [
    "for i in range(1,noOfEmissions+1):\n",
    "    for j in range(noOfStates):\n",
    "        hehe=-9999\n",
    "        for k in range(noOfStates):\n",
    "            if(hehe<table[k][i-1]*transsionProb[k][j]*emissionProb[k][i-1]):\n",
    "                hehe=table[k][i-1]*transsionProb[k][j]*emissionProb[k][i-1]\n",
    "                for_seq[j][i][0]=k\n",
    "                for_seq[j][i][1]=i-1\n",
    "        table[j][i]=hehe\n",
    "        table[j][i]=round(table[j][i],4)\n",
    "print(table)\n",
    "print(for_seq)\n",
    "ans=0\n",
    "for i in range(noOfStates):\n",
    "    ans+=table[i][noOfEmissions]\n",
    "ans=round(ans,4)\n",
    "print(ans)"
   ]
  },
  {
   "cell_type": "code",
   "execution_count": 48,
   "id": "cadf8994-201a-4d62-a6b4-2d4dfaab88db",
   "metadata": {},
   "outputs": [
    {
     "name": "stdout",
     "output_type": "stream",
     "text": [
      "0\n"
     ]
    }
   ],
   "source": [
    "lastMaxIndex=-1\n",
    "lastMax=-9999\n",
    "for i in range(noOfStates):\n",
    "    if lastMax<table[i][noOfEmissions]:\n",
    "        lastMax=table[i][noOfEmissions]\n",
    "        lastMaxIndex=i\n",
    "print(lastMaxIndex)\n"
   ]
  },
  {
   "cell_type": "code",
   "execution_count": 54,
   "id": "73913777-3220-42dd-aa3c-6b7fbe84b503",
   "metadata": {},
   "outputs": [
    {
     "name": "stdout",
     "output_type": "stream",
     "text": [
      "0\n",
      "1\n",
      "0\n",
      "Here 0 means CP 1 Means IP See the sequence in reverse\n"
     ]
    }
   ],
   "source": [
    "newMaxIndexes=[lastMaxIndex,noOfEmissions]\n",
    "for i in range(noOfEmissions,-1,-1):\n",
    "    newMaxIndexes[0]=for_seq[newMaxIndexes[0]][newMaxIndexes[1]][0]\n",
    "    newMaxIndexes[1]=for_seq[newMaxIndexes[0]][newMaxIndexes[1]][1]\n",
    "    if i!=0:\n",
    "        print(newMaxIndexes[0])\n",
    "print(\"Here 0 means CP 1 Means IP See the sequence in reverse\")"
   ]
  },
  {
   "cell_type": "code",
   "execution_count": null,
   "id": "44ffe750-d980-43a3-b8b3-b2b396287bcf",
   "metadata": {},
   "outputs": [],
   "source": []
  }
 ],
 "metadata": {
  "kernelspec": {
   "display_name": "Python [conda env:base] *",
   "language": "python",
   "name": "conda-base-py"
  },
  "language_info": {
   "codemirror_mode": {
    "name": "ipython",
    "version": 3
   },
   "file_extension": ".py",
   "mimetype": "text/x-python",
   "name": "python",
   "nbconvert_exporter": "python",
   "pygments_lexer": "ipython3",
   "version": "3.12.3"
  }
 },
 "nbformat": 4,
 "nbformat_minor": 5
}
