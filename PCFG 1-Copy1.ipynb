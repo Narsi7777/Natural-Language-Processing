{
 "cells": [
  {
   "cell_type": "code",
   "execution_count": 11,
   "id": "c3a70a56-0251-48b3-8f88-7899494bf6a5",
   "metadata": {},
   "outputs": [
    {
     "name": "stdin",
     "output_type": "stream",
     "text": [
      "Enter a sentence to parse:  students like painting\n"
     ]
    },
    {
     "name": "stdout",
     "output_type": "stream",
     "text": [
      "\n",
      "Parse Results using Viterbi Parsing:\n",
      "                                          Parse Tree  Probability\n",
      "0  (S (NN students) (VP (VB like) (NN painting)))...     0.000656\n",
      "Mean Probability of Parses: 0.00065625\n"
     ]
    }
   ],
   "source": [
    "import numpy as np\n",
    "import pandas as pd\n",
    "import nltk\n",
    "from nltk import PCFG, ViterbiParser\n",
    "\n",
    "grammar = PCFG.fromstring(\"\"\"\n",
    "S -> NN VP [0.50] | VP NP [0.50]\n",
    "NP -> NN PP [0.70] | PP NN [0.30]\n",
    "VP -> VB NP [0.30] | VB NN [0.35] | VP NP [0.20] | VB PP [0.15]\n",
    "PP -> P VP [0.50] | P NN [0.50]\n",
    "P -> 'with' [0.30] | 'after' [0.25] | 'to' [0.15] | 'without' [0.15] | 'before' [0.10] | 'into' [0.05]\n",
    "VB -> 'play' [0.20] | 'watch' [0.20] | 'enjoy' [0.20] | 'like' [0.15] | 'listen' [0.10] | 'enjoy' [0.15]\n",
    "NN -> 'children' [0.15] | 'cricket' [0.15] | 'friends' [0.20] | 'students' [0.10] | 'football' [0.15] | 'painting' [0.25]\n",
    "\"\"\")\n",
    "\n",
    "\n",
    "def main():\n",
    "    pcfg_grammar = grammar\n",
    "    viterbi_parser = ViterbiParser(pcfg_grammar)\n",
    "    \n",
    "    sentence = input(\"Enter a sentence to parse: \").strip().split()\n",
    "    parses = list(viterbi_parser.parse(sentence))\n",
    "    \n",
    "    parse_data = [(str(tree), tree.prob()) for tree in parses]\n",
    "    df = pd.DataFrame(parse_data, columns=['Parse Tree', 'Probability'])\n",
    "    \n",
    "    print(\"\\nParse Results using Viterbi Parsing:\")\n",
    "    print(df)\n",
    "    \n",
    "    mean_prob = np.mean(df['Probability']) if not df.empty else 0\n",
    "    print(\"Mean Probability of Parses:\", mean_prob)\n",
    "\n",
    "if __name__ == \"__main__\":\n",
    "    main()"
   ]
  },
  {
   "cell_type": "code",
   "execution_count": 4,
   "id": "7c76dc1e-a885-499e-b653-3b12716b27df",
   "metadata": {},
   "outputs": [
    {
     "name": "stdin",
     "output_type": "stream",
     "text": [
      "Enter a sentence to parse:  astronomers saw stars with ears\n"
     ]
    },
    {
     "name": "stdout",
     "output_type": "stream",
     "text": [
      "\n",
      "Parse Results using Viterbi Parsing:\n",
      "                                          Parse Tree  Probability\n",
      "0  (S\\n  (NP astronomers)\\n  (VP (V saw) (NP (NP ...     0.000907\n",
      "Mean Probability of Parses: 0.0009071999999999999\n"
     ]
    },
    {
     "name": "stdin",
     "output_type": "stream",
     "text": [
      "Enter a sentence to parse:  astronomers saw stars with ears\n"
     ]
    },
    {
     "name": "stdout",
     "output_type": "stream",
     "text": [
      "                  S                    \n",
      "      ____________|____                 \n",
      "     |                 VP              \n",
      "     |        _________|___             \n",
      "     |       |             NP          \n",
      "     |       |     ________|____        \n",
      "     |       |    |             PP     \n",
      "     |       |    |         ____|___    \n",
      "     NP      V    NP       P        NP \n",
      "     |       |    |        |        |   \n",
      "astronomers saw stars     with     ears\n",
      "\n",
      "PROBABILITY:  0.0009071999999999999\n",
      "                      S                    \n",
      "      ________________|____                 \n",
      "     |                     VP              \n",
      "     |            _________|________        \n",
      "     |           VP                 PP     \n",
      "     |        ___|____          ____|___    \n",
      "     NP      V        NP       P        NP \n",
      "     |       |        |        |        |   \n",
      "astronomers saw     stars     with     ears\n",
      "\n",
      "PROBABILITY:  0.0006804000000000001\n"
     ]
    }
   ],
   "source": [
    "import numpy as np\n",
    "import pandas as pd\n",
    "import nltk\n",
    "from nltk import PCFG, ViterbiParser\n",
    "from nltk import InsideChartParser\n",
    "\n",
    "# grammar = PCFG.fromstring(\"\"\"\n",
    "# S -> NP VP [0.9] \n",
    "# S -> VP [0.1] \n",
    "# NP -> Det N [0.8]\n",
    "# NP -> Det N PP [0.2]\n",
    "# VP -> V NP [0.7] \n",
    "# VP -> V PP [0.3]\n",
    "# Det -> 'the' [1.0]\n",
    "# N -> 'cat' [0.6]\n",
    "# N -> 'dog' [0.4]\n",
    "# V -> 'chases' [0.7]\n",
    "# V -> 'sees' [0.3]\n",
    "# PP -> P NP [1.0]\n",
    "# P -> 'in' [1.0]\n",
    "# \"\"\")\n",
    "\n",
    "grammar = PCFG.fromstring(\"\"\"\n",
    "S -> NP VP [1.0]\n",
    "VP -> V NP [0.7] | VP PP [0.3]\n",
    "PP -> P NP [1.0]\n",
    "P -> 'with' [1.0]\n",
    "V -> 'saw' [1.0]\n",
    "NP -> NP PP [0.4] | 'astronomers' [0.1] | 'ears' [0.18] | 'saw' [0.04] | 'stars' [0.18] | 'telescopes' [0.1]\n",
    "\"\"\")\n",
    "\n",
    "def main():\n",
    "    pcfg_grammar = grammar\n",
    "    viterbi_parser = ViterbiParser(pcfg_grammar)\n",
    "    \n",
    "    sentence = input(\"Enter a sentence to parse: \").strip().split()\n",
    "    parses = list(viterbi_parser.parse(sentence))\n",
    "    \n",
    "    parse_data = [(str(tree), tree.prob()) for tree in parses]\n",
    "    df = pd.DataFrame(parse_data, columns=['Parse Tree', 'Probability'])\n",
    "    \n",
    "    print(\"\\nParse Results using Viterbi Parsing:\")\n",
    "    print(df)\n",
    "    \n",
    "    mean_prob = np.mean(df['Probability']) if not df.empty else 0\n",
    "    print(\"Mean Probability of Parses:\", mean_prob)\n",
    "\n",
    "if __name__ == \"__main__\":\n",
    "    main()\n",
    "\n",
    "\n",
    "\n",
    "parser = InsideChartParser(grammar)\n",
    "sentence = input(\"Enter a sentence to parse: \").strip().split()\n",
    "for tree in parser.parse(sentence):\n",
    "    tree.pretty_print()\n",
    "    print(\"PROBABILITY: \",tree.prob())"
   ]
  }
 ],
 "metadata": {
  "kernelspec": {
   "display_name": "Python [conda env:base] *",
   "language": "python",
   "name": "conda-base-py"
  },
  "language_info": {
   "codemirror_mode": {
    "name": "ipython",
    "version": 3
   },
   "file_extension": ".py",
   "mimetype": "text/x-python",
   "name": "python",
   "nbconvert_exporter": "python",
   "pygments_lexer": "ipython3",
   "version": "3.12.3"
  }
 },
 "nbformat": 4,
 "nbformat_minor": 5
}
