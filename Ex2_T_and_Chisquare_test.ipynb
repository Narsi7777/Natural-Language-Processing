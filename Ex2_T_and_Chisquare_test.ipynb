{
 "cells": [
  {
   "cell_type": "code",
   "execution_count": 1,
   "metadata": {
    "id": "zrO_EqGEGQAX"
   },
   "outputs": [],
   "source": [
    "import nltk"
   ]
  },
  {
   "cell_type": "markdown",
   "metadata": {
    "id": "dyyZwF3_IVQx"
   },
   "source": [
    "Replacer module"
   ]
  },
  {
   "cell_type": "code",
   "execution_count": 4,
   "metadata": {
    "id": "E9RUkY5_GZq4"
   },
   "outputs": [
    {
     "name": "stderr",
     "output_type": "stream",
     "text": [
      "<>:7: SyntaxWarning: invalid escape sequence '\\g'\n",
      "<>:8: SyntaxWarning: invalid escape sequence '\\g'\n",
      "<>:9: SyntaxWarning: invalid escape sequence '\\g'\n",
      "<>:10: SyntaxWarning: invalid escape sequence '\\g'\n",
      "<>:11: SyntaxWarning: invalid escape sequence '\\g'\n",
      "<>:7: SyntaxWarning: invalid escape sequence '\\g'\n",
      "<>:8: SyntaxWarning: invalid escape sequence '\\g'\n",
      "<>:9: SyntaxWarning: invalid escape sequence '\\g'\n",
      "<>:10: SyntaxWarning: invalid escape sequence '\\g'\n",
      "<>:11: SyntaxWarning: invalid escape sequence '\\g'\n",
      "C:\\Users\\venka\\AppData\\Local\\Temp\\ipykernel_19260\\1674873575.py:7: SyntaxWarning: invalid escape sequence '\\g'\n",
      "  (r'(\\w+)\\'ll', '\\g<1> will'),\n",
      "C:\\Users\\venka\\AppData\\Local\\Temp\\ipykernel_19260\\1674873575.py:8: SyntaxWarning: invalid escape sequence '\\g'\n",
      "  (r'(\\w+)n\\'t', '\\g<1> not'),\n",
      "C:\\Users\\venka\\AppData\\Local\\Temp\\ipykernel_19260\\1674873575.py:9: SyntaxWarning: invalid escape sequence '\\g'\n",
      "  (r'(\\w+)\\'ve', '\\g<1> have'),\n",
      "C:\\Users\\venka\\AppData\\Local\\Temp\\ipykernel_19260\\1674873575.py:10: SyntaxWarning: invalid escape sequence '\\g'\n",
      "  (r'(\\w+)\\'s', '\\g<1> is'),\n",
      "C:\\Users\\venka\\AppData\\Local\\Temp\\ipykernel_19260\\1674873575.py:11: SyntaxWarning: invalid escape sequence '\\g'\n",
      "  (r'(\\w+)\\'re', '\\g<1> are'),\n"
     ]
    }
   ],
   "source": [
    "import re\n",
    "from nltk.corpus import wordnet\n",
    "R_patterns = [\n",
    "   (r'won\\'t', 'will not'),\n",
    "   (r'can\\'t', 'cannot'),\n",
    "   (r'i\\'m', 'i am'),\n",
    "   (r'(\\w+)\\'ll', '\\g<1> will'),\n",
    "   (r'(\\w+)n\\'t', '\\g<1> not'),\n",
    "   (r'(\\w+)\\'ve', '\\g<1> have'),\n",
    "   (r'(\\w+)\\'s', '\\g<1> is'),\n",
    "   (r'(\\w+)\\'re', '\\g<1> are'),\n",
    "]\n",
    "class REReplacer(object):\n",
    "    def __init__(self, patterns=R_patterns):\n",
    "       self.patterns = [(re.compile(regex), repl) for (regex, repl) in patterns]\n",
    "    def replace(self, text):\n",
    "       s = text\n",
    "       for (pattern, repl) in self.patterns:\n",
    "          s = re.sub(pattern, repl, s)\n",
    "       return s"
   ]
  },
  {
   "cell_type": "code",
   "execution_count": 3,
   "metadata": {
    "colab": {
     "base_uri": "https://localhost:8080/"
    },
    "id": "spu3kPDyGds0",
    "outputId": "3a2ffdac-2ba8-4378-c411-e8b58deb2b88"
   },
   "outputs": [
    {
     "name": "stderr",
     "output_type": "stream",
     "text": [
      "[nltk_data] Downloading package stopwords to /root/nltk_data...\n",
      "[nltk_data]   Unzipping corpora/stopwords.zip.\n"
     ]
    },
    {
     "data": {
      "text/plain": [
       "True"
      ]
     },
     "execution_count": 3,
     "metadata": {},
     "output_type": "execute_result"
    }
   ],
   "source": [
    "nltk.download('stopwords')"
   ]
  },
  {
   "cell_type": "code",
   "execution_count": 4,
   "metadata": {
    "colab": {
     "base_uri": "https://localhost:8080/"
    },
    "id": "VjsqG_htGk_W",
    "outputId": "c74dcd13-c1a3-4205-9772-0e61057db625"
   },
   "outputs": [
    {
     "name": "stdout",
     "output_type": "stream",
     "text": [
      "Enter critical value:2.57\n"
     ]
    }
   ],
   "source": [
    "import string\n",
    "import nltk ,re\n",
    "import math\n",
    "import numpy as np\n",
    "from nltk.corpus import stopwords\n",
    "\n",
    "critic_value = float(input(\"Enter critical value:\"))"
   ]
  },
  {
   "cell_type": "code",
   "execution_count": 5,
   "metadata": {
    "id": "CHl4VulhGve4"
   },
   "outputs": [],
   "source": [
    "stop_words = set(stopwords.words('english'))"
   ]
  },
  {
   "cell_type": "markdown",
   "metadata": {
    "id": "R0r15Z63IovF"
   },
   "source": [
    "Importing the data"
   ]
  },
  {
   "cell_type": "code",
   "execution_count": 6,
   "metadata": {
    "id": "DTIrCHwTHAWA"
   },
   "outputs": [],
   "source": [
    "file = open(\"text.txt\",\"r\")\n",
    "text = file.read()"
   ]
  },
  {
   "cell_type": "code",
   "execution_count": 7,
   "metadata": {
    "colab": {
     "base_uri": "https://localhost:8080/"
    },
    "id": "jdQZAUUCHBwC",
    "outputId": "a08af590-10ab-4cae-a412-9b6ae519b59c"
   },
   "outputs": [
    {
     "name": "stdout",
     "output_type": "stream",
     "text": [
      "she knocked the door\n",
      "they knocked at the door\n",
      "a man knocked on the metal front door\n",
      "she knocked door\n"
     ]
    }
   ],
   "source": [
    "print(text)"
   ]
  },
  {
   "cell_type": "markdown",
   "metadata": {
    "id": "978IIMx7I0Op"
   },
   "source": [
    "Sentence Tokenization\n"
   ]
  },
  {
   "cell_type": "code",
   "execution_count": 9,
   "metadata": {
    "colab": {
     "base_uri": "https://localhost:8080/"
    },
    "id": "Kg_byNXvHYrZ",
    "outputId": "bdf767fd-2d72-433e-b9b1-c4d3bf47e579"
   },
   "outputs": [
    {
     "name": "stderr",
     "output_type": "stream",
     "text": [
      "[nltk_data] Downloading package punkt to /root/nltk_data...\n",
      "[nltk_data]   Unzipping tokenizers/punkt.zip.\n"
     ]
    },
    {
     "data": {
      "text/plain": [
       "True"
      ]
     },
     "execution_count": 9,
     "metadata": {},
     "output_type": "execute_result"
    }
   ],
   "source": [
    "nltk.download('punkt')"
   ]
  },
  {
   "cell_type": "code",
   "execution_count": 10,
   "metadata": {
    "id": "W_aksvgvHIc0"
   },
   "outputs": [],
   "source": [
    "sents = nltk.sent_tokenize(text)"
   ]
  },
  {
   "cell_type": "markdown",
   "metadata": {
    "id": "WkOsDkIcI-5z"
   },
   "source": [
    "Punctuation Removal"
   ]
  },
  {
   "cell_type": "code",
   "execution_count": 11,
   "metadata": {
    "id": "FHuPTVhCHbfE"
   },
   "outputs": [],
   "source": [
    "sents_1 = []\n",
    "rep_word = REReplacer()\n",
    "for i in sents:\n",
    "    n = rep_word.replace(i)\n",
    "    n = n.translate(str.maketrans('', '', string.punctuation))\n",
    "    sents_1.append(n)"
   ]
  },
  {
   "cell_type": "code",
   "execution_count": 12,
   "metadata": {
    "colab": {
     "base_uri": "https://localhost:8080/"
    },
    "id": "oFt5Y_28Hgw4",
    "outputId": "911392a3-7826-487b-e2f3-b6d8165d6bc3"
   },
   "outputs": [
    {
     "data": {
      "text/plain": [
       "['she knocked the door\\nthey knocked at the door\\na man knocked on the metal front door\\nshe knocked door']"
      ]
     },
     "execution_count": 12,
     "metadata": {},
     "output_type": "execute_result"
    }
   ],
   "source": [
    "sents_1"
   ]
  },
  {
   "cell_type": "markdown",
   "metadata": {
    "id": "7qWF_Hw2JDsX"
   },
   "source": [
    "Word Tokenization"
   ]
  },
  {
   "cell_type": "code",
   "execution_count": 13,
   "metadata": {
    "id": "zLLd2f74Hkm_"
   },
   "outputs": [],
   "source": [
    "ws = []\n",
    "for j in sents_1:\n",
    "    sent = nltk.word_tokenize(j)\n",
    "    for s in sent:\n",
    "        ws.append(s)"
   ]
  },
  {
   "cell_type": "markdown",
   "metadata": {
    "id": "rzcIeWEyJMF0"
   },
   "source": [
    "Stopwords Removal"
   ]
  },
  {
   "cell_type": "code",
   "execution_count": 14,
   "metadata": {
    "id": "4ogSTob4Hmnc"
   },
   "outputs": [],
   "source": [
    "texts = []\n",
    "for w in ws:\n",
    "    if w not in stop_words:\n",
    "        texts.append(w)"
   ]
  },
  {
   "cell_type": "code",
   "execution_count": 15,
   "metadata": {
    "colab": {
     "base_uri": "https://localhost:8080/"
    },
    "id": "w5pKPkmeHqgz",
    "outputId": "606d3cc1-4dd1-4e38-9875-d386272247a8"
   },
   "outputs": [
    {
     "name": "stdout",
     "output_type": "stream",
     "text": [
      "['knocked', 'door', 'knocked', 'door', 'man', 'knocked', 'metal', 'front', 'door', 'knocked', 'door']\n"
     ]
    }
   ],
   "source": [
    "print(texts)\n",
    "N = len(texts)"
   ]
  },
  {
   "cell_type": "markdown",
   "metadata": {
    "id": "_h8tem5PJRqC"
   },
   "source": [
    "Finding Frequency and Probability of a word"
   ]
  },
  {
   "cell_type": "code",
   "execution_count": 16,
   "metadata": {
    "id": "Tuw0kIK-HtUo"
   },
   "outputs": [],
   "source": [
    "vocabulary = []\n",
    "for word in texts :\n",
    "    if word not in vocabulary:\n",
    "        vocabulary.append(word)\n",
    "voc_len = len(vocabulary)"
   ]
  },
  {
   "cell_type": "code",
   "execution_count": 17,
   "metadata": {
    "colab": {
     "base_uri": "https://localhost:8080/"
    },
    "id": "H7dosQR1HyIy",
    "outputId": "7116a260-08a5-4316-ea44-8f0a664fa9e4"
   },
   "outputs": [
    {
     "name": "stdout",
     "output_type": "stream",
     "text": [
      "['knocked', 'door', 'man', 'metal', 'front']\n"
     ]
    }
   ],
   "source": [
    "print(vocabulary)"
   ]
  },
  {
   "cell_type": "markdown",
   "metadata": {
    "id": "agsh-muSJapY"
   },
   "source": [
    "Preparation for t-test and chi^2-test"
   ]
  },
  {
   "cell_type": "code",
   "execution_count": 18,
   "metadata": {
    "colab": {
     "base_uri": "https://localhost:8080/"
    },
    "id": "17TuLHjEH2BZ",
    "outputId": "7e329106-b095-4d7b-d52d-d505f68bedcf"
   },
   "outputs": [
    {
     "name": "stdout",
     "output_type": "stream",
     "text": [
      "Unique words: 5\n",
      "Total words: 11\n"
     ]
    }
   ],
   "source": [
    "print(\"Unique words:\",voc_len)\n",
    "print(\"Total words:\",N)"
   ]
  },
  {
   "cell_type": "markdown",
   "metadata": {
    "id": "fPIDIpXJJcgy"
   },
   "source": [
    "T-test"
   ]
  },
  {
   "cell_type": "code",
   "execution_count": 19,
   "metadata": {
    "id": "blUvZ0QdH6m6"
   },
   "outputs": [],
   "source": [
    "def T_test(w1,w2,c1,c2,c12):\n",
    "\n",
    "    p_w1 = c1/N\n",
    "    p_w2 = c2/N\n",
    "\n",
    "    exp_mean = p_w1*p_w2 #expected mean\n",
    "\n",
    "    ob_mean = c12/N #observed mean\n",
    "    s_2 = ob_mean #s^2\n",
    "    diff =  ob_mean - exp_mean\n",
    "    v = math.sqrt((s_2/N))\n",
    "    t = diff/v\n",
    "    t = round(t, 2)\n",
    "    d = {}\n",
    "    d['t-value'] = t\n",
    "    d['word1'] = w1\n",
    "    d['word2'] = w2\n",
    "    return d"
   ]
  },
  {
   "cell_type": "markdown",
   "metadata": {
    "id": "xecg_Q95Jiq0"
   },
   "source": [
    "chi^2 test"
   ]
  },
  {
   "cell_type": "code",
   "execution_count": 20,
   "metadata": {
    "id": "s5SMQ55lH9jd"
   },
   "outputs": [],
   "source": [
    "def chi_2_test(w1,w2,c1,c2,c12):\n",
    "    a = c12\n",
    "    b = c1 - a\n",
    "    cx = c2 - a\n",
    "    r2 = N - c1\n",
    "    d = r2 - cx\n",
    "    r1 = a+b\n",
    "    e = a+cx\n",
    "    f = b+d\n",
    "\n",
    "    e_w1 = (r1*e)/N\n",
    "    e_w2 = (r1*f)/N\n",
    "    e_w3 = (e*r2)/N\n",
    "    e_w4 = (f*r2)/N\n",
    "    sum1 = (np.square(a-e_w1))/e_w1\n",
    "    sum2 = (np.square(b-e_w2))/e_w2\n",
    "    sum3 = (np.square(cx-e_w3))/e_w3\n",
    "    sum4 = (np.square(d-e_w4))/e_w4\n",
    "\n",
    "\n",
    "    c = {}\n",
    "    c['chi-value'] = sum1 + sum2 + sum3 + sum4\n",
    "    c['word1'] = w1\n",
    "    c['word2'] = w2\n",
    "    return c"
   ]
  },
  {
   "cell_type": "code",
   "execution_count": 21,
   "metadata": {
    "id": "dhoGBdobIEKB"
   },
   "outputs": [],
   "source": [
    "ttest = []\n",
    "chi2test=[]\n",
    "for i in range(len(texts)-1):\n",
    "    w1=texts[i]\n",
    "    w2=texts[i+1]\n",
    "    w12 = w1 +\" \"+ w2\n",
    "    c1 = 0\n",
    "    c2 = 0\n",
    "    c12 = 0\n",
    "    for w in range(len(texts)-1):\n",
    "        if texts[w] == w1:\n",
    "            c1 = c1+1\n",
    "            if texts[w+1] == w2:\n",
    "                c12 = c12+1\n",
    "        if texts[w] == w2:\n",
    "            c2 = c2+1\n",
    "    ttest.append(T_test(w1,w2,c1,c2,c12))\n",
    "    chi2test.append(chi_2_test(w1,w2,c1,c2,c12))"
   ]
  },
  {
   "cell_type": "code",
   "execution_count": 22,
   "metadata": {
    "colab": {
     "base_uri": "https://localhost:8080/"
    },
    "id": "G7hW3yDaII6h",
    "outputId": "4b882dca-0f9f-47a6-d48c-0b223c0086b3"
   },
   "outputs": [
    {
     "name": "stdout",
     "output_type": "stream",
     "text": [
      "t-test:\n",
      "\n",
      "t-value: 1.1 \t Words:  knocked and door  are not collocated!\n",
      "t-value: 0.64 \t Words:  door and knocked  are not collocated!\n",
      "t-value: 1.1 \t Words:  knocked and door  are not collocated!\n",
      "t-value: 0.73 \t Words:  door and man  are not collocated!\n",
      "t-value: 0.64 \t Words:  man and knocked  are not collocated!\n",
      "t-value: 0.64 \t Words:  knocked and metal  are not collocated!\n",
      "t-value: 0.91 \t Words:  metal and front  are not collocated!\n",
      "t-value: 0.73 \t Words:  front and door  are not collocated!\n",
      "t-value: 0.64 \t Words:  door and knocked  are not collocated!\n",
      "t-value: 1.1 \t Words:  knocked and door  are not collocated!\n"
     ]
    }
   ],
   "source": [
    "print(\"t-test:\\n\")\n",
    "for d in ttest:\n",
    "    if d['t-value'] > critic_value:\n",
    "        print(\"t-value:\",d['t-value'],\"\\t Words: \",d['word1'],\"and\",d['word2'],\" are collocated!\",end = \"\\n\")\n",
    "    else:\n",
    "        print(\"t-value:\",d['t-value'],\"\\t Words: \",d['word1'],\"and\",d['word2'], \" are not collocated!\",end = \"\\n\")"
   ]
  },
  {
   "cell_type": "code",
   "execution_count": 23,
   "metadata": {
    "colab": {
     "base_uri": "https://localhost:8080/"
    },
    "id": "GPFcHTTsINQC",
    "outputId": "a3ff006f-d227-4b79-e2cf-3ceb4bd61b85"
   },
   "outputs": [
    {
     "name": "stdout",
     "output_type": "stream",
     "text": [
      "chi^2-test:\n",
      "\n",
      "chi-value: 7.218750000000001 \t Words:  knocked and door  are collocated!\n",
      "chi-value: 1.6369047619047623 \t Words:  door and knocked  are not collocated!\n",
      "chi-value: 7.218750000000001 \t Words:  knocked and door  are collocated!\n",
      "chi-value: 2.933333333333333 \t Words:  door and man  are collocated!\n",
      "chi-value: 1.925 \t Words:  man and knocked  are not collocated!\n",
      "chi-value: 1.925 \t Words:  knocked and metal  are not collocated!\n",
      "chi-value: 10.999999999999996 \t Words:  metal and front  are collocated!\n",
      "chi-value: 2.9333333333333336 \t Words:  front and door  are collocated!\n",
      "chi-value: 1.6369047619047623 \t Words:  door and knocked  are not collocated!\n",
      "chi-value: 7.218750000000001 \t Words:  knocked and door  are collocated!\n"
     ]
    }
   ],
   "source": [
    "print(\"chi^2-test:\\n\")\n",
    "for d in chi2test:\n",
    "    if d['chi-value'] > critic_value:\n",
    "        print(\"chi-value:\",d['chi-value'],\"\\t Words: \",d['word1'],\"and\",d['word2'],\" are collocated!\",end = \"\\n\")\n",
    "    else:\n",
    "        print(\"chi-value:\",d['chi-value'],\"\\t Words: \",d['word1'],\"and\",d['word2'], \" are not collocated!\",end = \"\\n\")"
   ]
  }
 ],
 "metadata": {
  "colab": {
   "provenance": []
  },
  "kernelspec": {
   "display_name": "Python [conda env:base] *",
   "language": "python",
   "name": "conda-base-py"
  },
  "language_info": {
   "codemirror_mode": {
    "name": "ipython",
    "version": 3
   },
   "file_extension": ".py",
   "mimetype": "text/x-python",
   "name": "python",
   "nbconvert_exporter": "python",
   "pygments_lexer": "ipython3",
   "version": "3.12.7"
  }
 },
 "nbformat": 4,
 "nbformat_minor": 4
}
