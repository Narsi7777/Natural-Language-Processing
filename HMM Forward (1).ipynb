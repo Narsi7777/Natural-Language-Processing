{
 "cells": [
  {
   "cell_type": "code",
   "execution_count": 78,
   "id": "587e31f7-ff7b-42bb-af34-174ab52ad53e",
   "metadata": {},
   "outputs": [
    {
     "data": {
      "text/plain": [
       "[[0.7, 0.3], [0.5, 0.5]]"
      ]
     },
     "execution_count": 78,
     "metadata": {},
     "output_type": "execute_result"
    }
   ],
   "source": [
    "#defined input\n",
    "\n",
    "noOfStates=2\n",
    "noOfEmissions=3\n",
    "# transsionProb={\n",
    "#     \"cp\":{\"cp\":0.7,\"ip\":0.3},\n",
    "#     \"ip\":{\"cp\":0.5,\"ip\":0.5}\n",
    "# }\n",
    "transsionProb=[\n",
    "    [0.7,0.3],\n",
    "    [0.5,0.5]\n",
    "]\n",
    "# emissionProb={\n",
    "#     \"cp\":{\"cola\":0.6,\"icet\":0.1,\"lem\":0.3},\n",
    "#     \"ip\":{\"cola\":0.1,\"icet\":0.7,\"lem\":0.2}\n",
    "# }\n",
    "emissionProb=[\n",
    "    [0.3,0.1,0.6],\n",
    "    [0.2,0.7,0.1]\n",
    "]\n",
    "initialProbs=[1,0]\n",
    "emissionProb\n",
    "transsionProb"
   ]
  },
  {
   "cell_type": "code",
   "execution_count": null,
   "id": "84031898-5993-4f33-a04c-720b37b06588",
   "metadata": {},
   "outputs": [],
   "source": []
  },
  {
   "cell_type": "code",
   "execution_count": 110,
   "id": "a075facd-ffef-4e11-92d7-02b64845375a",
   "metadata": {},
   "outputs": [
    {
     "name": "stdin",
     "output_type": "stream",
     "text": [
      "Enter no of States 2\n",
      "Enter No of Emissions 3\n"
     ]
    },
    {
     "name": "stdout",
     "output_type": "stream",
     "text": [
      "Enter States one by sequentially\n"
     ]
    },
    {
     "name": "stdin",
     "output_type": "stream",
     "text": [
      "Enter1th Transsion cp\n",
      "Enter2th Transsion ip\n"
     ]
    },
    {
     "name": "stdout",
     "output_type": "stream",
     "text": [
      "Enter Emissions sequentially \n"
     ]
    },
    {
     "name": "stdin",
     "output_type": "stream",
     "text": [
      "Enter1th Emission State lem\n",
      "Enter2th Emission State icet\n",
      "Enter3th Emission State cola\n"
     ]
    },
    {
     "name": "stdout",
     "output_type": "stream",
     "text": [
      "['cp', 'ip']\n",
      "['lem', 'icet', 'cola']\n"
     ]
    }
   ],
   "source": [
    "#manual input\n",
    "noOfStates=int(input(\"Enter no of States\"))\n",
    "noOfEmissions=int(input(\"Enter No of Emissions\"))\n",
    "print(\"Enter States one by sequentially\")\n",
    "trans=[]\n",
    "for i in range(noOfStates):\n",
    "    trans.append(input(f\"Enter{i+1}th Transsion\"))\n",
    "print(\"Enter Emissions sequentially \")\n",
    "emms=[]\n",
    "for i in range(noOfEmissions):\n",
    "    emms.append(input(f\"Enter{i+1}th Emission State\"))\n",
    "print(trans)\n",
    "print(emms)"
   ]
  },
  {
   "cell_type": "code",
   "execution_count": 116,
   "id": "74f838f1-b9fe-470e-a82b-6d87441c3d26",
   "metadata": {},
   "outputs": [
    {
     "name": "stdin",
     "output_type": "stream",
     "text": [
      "Enter Transsion probability from cp to cp 0.7\n",
      "Enter Transsion probability from cp to ip 0.3\n",
      "Enter Transsion probability from ip to cp 0.5\n",
      "Enter Transsion probability from ip to ip 0.5\n",
      "Enter Emission probability from cp to lem 0.3\n",
      "Enter Emission probability from cp to icet 0.1\n",
      "Enter Emission probability from cp to cola 0.6\n",
      "Enter Emission probability from ip to lem 0.2\n",
      "Enter Emission probability from ip to icet 0.7\n",
      "Enter Emission probability from ip to cola 0.1\n"
     ]
    },
    {
     "name": "stdout",
     "output_type": "stream",
     "text": [
      "[[0.7, 0.3], [0.5, 0.5]]\n",
      "[[0.3, 0.1, 0.6], [0.2, 0.7, 0.1]]\n"
     ]
    }
   ],
   "source": [
    "#manula input 2\n",
    "transsionProb=[]\n",
    "for s in trans:\n",
    "    x=[]\n",
    "    for t in trans:\n",
    "        x.append(float(input(f\"Enter Transsion probability from {s} to {t}\")))\n",
    "    transsionProb.append(x)\n",
    "emissionProb=[]\n",
    "for s in trans:\n",
    "    x=[]\n",
    "    for t in emms:\n",
    "        x.append(float(input(f\"Enter Emission probability from {s} to {t}\")))\n",
    "    emissionProb.append(x)\n",
    "print(transsionProb)\n",
    "print(emissionProb)"
   ]
  },
  {
   "cell_type": "code",
   "execution_count": 118,
   "id": "891eb288-2fb1-4c7f-9b08-10a545a33093",
   "metadata": {},
   "outputs": [
    {
     "data": {
      "text/plain": [
       "[[1, 0, 0, 0], [0, 0, 0, 0]]"
      ]
     },
     "execution_count": 118,
     "metadata": {},
     "output_type": "execute_result"
    }
   ],
   "source": [
    "table=[[0 for _ in range(noOfEmissions+1)] for _ in range(noOfStates)]\n",
    "table\n",
    "#filling intial probs\n",
    "for i in range(noOfStates):\n",
    "    table[i][0]=initialProbs[i]\n",
    "table"
   ]
  },
  {
   "cell_type": "code",
   "execution_count": 122,
   "id": "85a6a6a1-e6a0-4a38-a0d2-44722bdc7a19",
   "metadata": {},
   "outputs": [
    {
     "name": "stdout",
     "output_type": "stream",
     "text": [
      "[[1, 0.42, 0.1386, 0.0852], [0, 0.18, 0.1134, 0.0408]]\n"
     ]
    },
    {
     "data": {
      "text/plain": [
       "0.126"
      ]
     },
     "execution_count": 122,
     "metadata": {},
     "output_type": "execute_result"
    }
   ],
   "source": [
    "for i in range(1,noOfEmissions+1):\n",
    "    for j in range(noOfStates):\n",
    "        for k in range(noOfStates):\n",
    "            table[j][i]+=table[k][i-1]*transsionProb[k][j]*emissionProb[k][i-1]\n",
    "        table[j][i]=round(table[j][i],4)\n",
    "print(table)\n",
    "ans=0\n",
    "for i in range(noOfStates):\n",
    "    ans+=table[i][noOfEmissions]\n",
    "ans=round(ans,4)\n",
    "ans"
   ]
  },
  {
   "cell_type": "code",
   "execution_count": 7,
   "id": "9db739f7-c1df-4af6-a819-3dd903aa1016",
   "metadata": {},
   "outputs": [
    {
     "data": {
      "text/plain": [
       "[[1, 0.21, 0.0462, 0.0213], [0, 0.09, 0.0378, 0.0102]]"
      ]
     },
     "execution_count": 7,
     "metadata": {},
     "output_type": "execute_result"
    }
   ],
   "source": [
    "#defined input\n",
    "\n",
    "noOfStates=2\n",
    "noOfEmissions=3\n",
    "# transsionProb={\n",
    "#     \"cp\":{\"cp\":0.7,\"ip\":0.3},\n",
    "#     \"ip\":{\"cp\":0.5,\"ip\":0.5}\n",
    "# }\n",
    "transsionProb=[\n",
    "    [0.7,0.3],\n",
    "    [0.5,0.5]\n",
    "]\n",
    "# emissionProb={\n",
    "#     \"cp\":{\"cola\":0.6,\"icet\":0.1,\"lem\":0.3},\n",
    "#     \"ip\":{\"cola\":0.1,\"icet\":0.7,\"lem\":0.2}\n",
    "# }\n",
    "emissionProb=[\n",
    "    [0.3,0.1,0.6],\n",
    "    [0.2,0.7,0.1]\n",
    "]\n",
    "initialProbs=[1,0]\n",
    "\n",
    "\n",
    "table=[[0 for i in range(noOfEmissions+1)]for j in range(noOfStates)]\n",
    "for i in range(noOfStates):\n",
    "    table[i][0]=initialProbs[i]\n",
    "for i in range(1,noOfEmissions+1):\n",
    "    for j in range(noOfStates):\n",
    "        for k in range(noOfStates):\n",
    "            table[j][i]+=table[k][i-1]*transsionProb[k][j]*emissionProb[k][i-1]\n",
    "        table[j][i]=round(table[j][i],4)\n",
    "table"
   ]
  }
 ],
 "metadata": {
  "kernelspec": {
   "display_name": "Python [conda env:base] *",
   "language": "python",
   "name": "conda-base-py"
  },
  "language_info": {
   "codemirror_mode": {
    "name": "ipython",
    "version": 3
   },
   "file_extension": ".py",
   "mimetype": "text/x-python",
   "name": "python",
   "nbconvert_exporter": "python",
   "pygments_lexer": "ipython3",
   "version": "3.12.3"
  }
 },
 "nbformat": 4,
 "nbformat_minor": 5
}
