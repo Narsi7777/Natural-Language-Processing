{
 "cells": [
  {
   "cell_type": "code",
   "execution_count": 5,
   "id": "f7d17f67-2aa2-47ad-9e3a-5e22ccc3937a",
   "metadata": {},
   "outputs": [],
   "source": [
    "noOfStates=2\n",
    "noOfEmissions=3\n",
    "\n",
    "transsionProb=[\n",
    "    [0.7,0.3],\n",
    "    [0.5,0.5]\n",
    "]\n",
    "\n",
    "emissionProb=[\n",
    "    [0.3,0.1,0.6],\n",
    "    [0.2,0.7,0.1]\n",
    "]\n",
    "\n",
    "initialProbs=[1,0]\n"
   ]
  },
  {
   "cell_type": "code",
   "execution_count": 23,
   "id": "14858d09-38bf-467f-8f80-5e8efed89b5e",
   "metadata": {},
   "outputs": [
    {
     "name": "stdout",
     "output_type": "stream",
     "text": [
      "[[0, 0, 0, 0], [0, 0, 0, 0]]\n",
      "[[1, 0, 0, 0], [0, 0, 0, 0]]\n"
     ]
    },
    {
     "data": {
      "text/plain": [
       "0.03149999999999999"
      ]
     },
     "execution_count": 23,
     "metadata": {},
     "output_type": "execute_result"
    }
   ],
   "source": [
    "noOfStates=2\n",
    "noOfEmissions=3\n",
    "\n",
    "transsionProb=[\n",
    "    [0.7,0.3],\n",
    "    [0.5,0.5]\n",
    "]\n",
    "\n",
    "emissionProb=[\n",
    "    [0.3,0.1,0.6],\n",
    "    [0.2,0.7,0.1]\n",
    "]\n",
    "\n",
    "\n",
    "initialProbs=[1,0]\n",
    "\n",
    "\n",
    "\n",
    "table=[[0 for i in range(noOfEmissions+1)]for j in range(noOfStates)]\n",
    "# print(table)\n",
    "for i in range(noOfStates):\n",
    "    table[i][0]=initialProbs[i]\n",
    "# print(table)\n",
    "for i in range(1,noOfEmissions+1):\n",
    "    for j in range(noOfStates):\n",
    "        for k in range(noOfStates):\n",
    "            table[j][i]+=table[k][i-1]*transsionProb[k][j]*emissionProb[k][i-1]\n",
    "# print(table)\n",
    "ans=0\n",
    "for i in range(noOfStates):\n",
    "    ans+=table[i][noOfEmissions]\n",
    "ans"
   ]
  },
  {
   "cell_type": "code",
   "execution_count": 19,
   "id": "532677b2-cf34-403e-a0cd-5deaf675c32c",
   "metadata": {},
   "outputs": [
    {
     "data": {
      "text/plain": [
       "[[0, 0, 0, 1], [0, 0, 0, 1]]"
      ]
     },
     "execution_count": 19,
     "metadata": {},
     "output_type": "execute_result"
    }
   ],
   "source": [
    "table2=[[0 for i in range(noOfEmissions+1)] for j in range(noOfStates)]\n",
    "\n",
    "\n",
    "for i in range(noOfStates):\n",
    "    table2[i][noOfEmissions]=1\n",
    "\n",
    "for i in range(noOfEmission-1,-1,-1):\n",
    "    for j in range(noOfStates):\n",
    "        for k in range(noOf)\n",
    "    "
   ]
  }
 ],
 "metadata": {
  "kernelspec": {
   "display_name": "Python [conda env:base] *",
   "language": "python",
   "name": "conda-base-py"
  },
  "language_info": {
   "codemirror_mode": {
    "name": "ipython",
    "version": 3
   },
   "file_extension": ".py",
   "mimetype": "text/x-python",
   "name": "python",
   "nbconvert_exporter": "python",
   "pygments_lexer": "ipython3",
   "version": "3.12.3"
  }
 },
 "nbformat": 4,
 "nbformat_minor": 5
}
