{
 "cells": [
  {
   "cell_type": "code",
   "execution_count": 43,
   "id": "9afd064b",
   "metadata": {},
   "outputs": [],
   "source": [
    "noOfStates=2\n",
    "noOfEmissions=3\n",
    "initialStateProbabilities=[1,0]\n",
    "\n",
    "stateTransitionProbabilites=[\n",
    "                        [0.7,0.3],\n",
    "                        [0.5,0.5]\n",
    "                    ]\n",
    "\n",
    "stateEmmsionProbabilites=[\n",
    "                        [0.3,0.1,0.6],\n",
    "                        [0.2,0.7,0.1]\n",
    "                    ]\n",
    "\n",
    "emmssions={\n",
    "    'sunny':0,\n",
    "    'cloudy':1,\n",
    "    'rainy':2\n",
    "}\n",
    "output=[[],[]]"
   ]
  },
  {
   "cell_type": "code",
   "execution_count": 52,
   "id": "44e60da9",
   "metadata": {},
   "outputs": [
    {
     "ename": "KeyboardInterrupt",
     "evalue": "Interrupted by user",
     "output_type": "error",
     "traceback": [
      "\u001b[1;31m---------------------------------------------------------------------------\u001b[0m",
      "\u001b[1;31mKeyboardInterrupt\u001b[0m                         Traceback (most recent call last)",
      "Cell \u001b[1;32mIn[52], line 1\u001b[0m\n\u001b[1;32m----> 1\u001b[0m noOfStates\u001b[38;5;241m=\u001b[39m\u001b[38;5;28mint\u001b[39m(\u001b[38;5;28minput\u001b[39m(\u001b[38;5;124m\"\u001b[39m\u001b[38;5;124mEnter Number Of States\u001b[39m\u001b[38;5;124m\"\u001b[39m))\n\u001b[0;32m      2\u001b[0m noOfEmissions\u001b[38;5;241m=\u001b[39m\u001b[38;5;28mint\u001b[39m(\u001b[38;5;28minput\u001b[39m(\u001b[38;5;124m\"\u001b[39m\u001b[38;5;124mEnter Number Of Emissions\u001b[39m\u001b[38;5;124m\"\u001b[39m))\n\u001b[0;32m      3\u001b[0m initialStateProbabilities\u001b[38;5;241m=\u001b[39m[]\n",
      "File \u001b[1;32m~\\AppData\\Roaming\\Python\\Python311\\site-packages\\ipykernel\\kernelbase.py:1282\u001b[0m, in \u001b[0;36mKernel.raw_input\u001b[1;34m(self, prompt)\u001b[0m\n\u001b[0;32m   1280\u001b[0m     msg \u001b[38;5;241m=\u001b[39m \u001b[38;5;124m\"\u001b[39m\u001b[38;5;124mraw_input was called, but this frontend does not support input requests.\u001b[39m\u001b[38;5;124m\"\u001b[39m\n\u001b[0;32m   1281\u001b[0m     \u001b[38;5;28;01mraise\u001b[39;00m StdinNotImplementedError(msg)\n\u001b[1;32m-> 1282\u001b[0m \u001b[38;5;28;01mreturn\u001b[39;00m \u001b[38;5;28mself\u001b[39m\u001b[38;5;241m.\u001b[39m_input_request(\n\u001b[0;32m   1283\u001b[0m     \u001b[38;5;28mstr\u001b[39m(prompt),\n\u001b[0;32m   1284\u001b[0m     \u001b[38;5;28mself\u001b[39m\u001b[38;5;241m.\u001b[39m_parent_ident[\u001b[38;5;124m\"\u001b[39m\u001b[38;5;124mshell\u001b[39m\u001b[38;5;124m\"\u001b[39m],\n\u001b[0;32m   1285\u001b[0m     \u001b[38;5;28mself\u001b[39m\u001b[38;5;241m.\u001b[39mget_parent(\u001b[38;5;124m\"\u001b[39m\u001b[38;5;124mshell\u001b[39m\u001b[38;5;124m\"\u001b[39m),\n\u001b[0;32m   1286\u001b[0m     password\u001b[38;5;241m=\u001b[39m\u001b[38;5;28;01mFalse\u001b[39;00m,\n\u001b[0;32m   1287\u001b[0m )\n",
      "File \u001b[1;32m~\\AppData\\Roaming\\Python\\Python311\\site-packages\\ipykernel\\kernelbase.py:1325\u001b[0m, in \u001b[0;36mKernel._input_request\u001b[1;34m(self, prompt, ident, parent, password)\u001b[0m\n\u001b[0;32m   1322\u001b[0m \u001b[38;5;28;01mexcept\u001b[39;00m \u001b[38;5;167;01mKeyboardInterrupt\u001b[39;00m:\n\u001b[0;32m   1323\u001b[0m     \u001b[38;5;66;03m# re-raise KeyboardInterrupt, to truncate traceback\u001b[39;00m\n\u001b[0;32m   1324\u001b[0m     msg \u001b[38;5;241m=\u001b[39m \u001b[38;5;124m\"\u001b[39m\u001b[38;5;124mInterrupted by user\u001b[39m\u001b[38;5;124m\"\u001b[39m\n\u001b[1;32m-> 1325\u001b[0m     \u001b[38;5;28;01mraise\u001b[39;00m \u001b[38;5;167;01mKeyboardInterrupt\u001b[39;00m(msg) \u001b[38;5;28;01mfrom\u001b[39;00m \u001b[38;5;28;01mNone\u001b[39;00m\n\u001b[0;32m   1326\u001b[0m \u001b[38;5;28;01mexcept\u001b[39;00m \u001b[38;5;167;01mException\u001b[39;00m:\n\u001b[0;32m   1327\u001b[0m     \u001b[38;5;28mself\u001b[39m\u001b[38;5;241m.\u001b[39mlog\u001b[38;5;241m.\u001b[39mwarning(\u001b[38;5;124m\"\u001b[39m\u001b[38;5;124mInvalid Message:\u001b[39m\u001b[38;5;124m\"\u001b[39m, exc_info\u001b[38;5;241m=\u001b[39m\u001b[38;5;28;01mTrue\u001b[39;00m)\n",
      "\u001b[1;31mKeyboardInterrupt\u001b[0m: Interrupted by user"
     ]
    }
   ],
   "source": [
    "noOfStates=int(input(\"Enter Number Of States\"))\n",
    "noOfEmissions=int(input(\"Enter Number Of Emissions\"))\n",
    "initialStateProbabilities=[]\n",
    "for i in range(noOfStates):\n",
    "    initialStateProbabilities.append(int(input(f\"Enter Initial Probability of {i}\\n\")))\n",
    "\n",
    "stateTransitionProbabilites=[]\n",
    "for i in range(noOfStates):\n",
    "    t=[]\n",
    "    for j in range(noOfStates):\n",
    "        t.append(float(input(f\"Enter State Transision Probability from {i} to {j}\\n\")))\n",
    "    stateTransitionProbabilites.append(t)\n",
    "    \n",
    "    \n",
    "    \n",
    "stateEmmsionProbabilites=[]\n",
    "\n",
    "for i in range(noOfStates):\n",
    "    t=[]\n",
    "    for j in range(noOfEmissions):\n",
    "        t.append(float(input(f\"Enter State Emission Probability from  {i} to {j}\\n\")))\n",
    "    stateEmmsionProbabilites.append(t)\n"
   ]
  },
  {
   "cell_type": "code",
   "execution_count": 50,
   "id": "6d15c2f4",
   "metadata": {},
   "outputs": [
    {
     "name": "stdout",
     "output_type": "stream",
     "text": [
      "0.005492339999999998\n",
      "0.002937059999999999\n",
      "0.0014124347999999996\n",
      "0.0011927411999999996\n",
      "0.0006528596759999997\n",
      "0.0003138753239999999\n"
     ]
    }
   ],
   "source": [
    "changeStates=[]\n",
    "for v in range(noOfEmissions):\n",
    "    changeStates=[]\n",
    "    for i in range(noOfStates):\n",
    "        prob=0\n",
    "        for j in range(noOfStates):\n",
    "            prob=prob+(initialStateProbabilities[j]*stateTransitionProbabilites[j][i]*stateEmmsionProbabilites[j][v])\n",
    "        print(prob)\n",
    "        changeStates.append(prob)\n",
    "    initialStateProbabilities=changeStates\n",
    "        "
   ]
  },
  {
   "cell_type": "code",
   "execution_count": null,
   "id": "686d335f",
   "metadata": {},
   "outputs": [],
   "source": []
  }
 ],
 "metadata": {
  "kernelspec": {
   "display_name": "Python 3 (ipykernel)",
   "language": "python",
   "name": "python3"
  },
  "language_info": {
   "codemirror_mode": {
    "name": "ipython",
    "version": 3
   },
   "file_extension": ".py",
   "mimetype": "text/x-python",
   "name": "python",
   "nbconvert_exporter": "python",
   "pygments_lexer": "ipython3",
   "version": "3.11.3"
  }
 },
 "nbformat": 4,
 "nbformat_minor": 5
}
